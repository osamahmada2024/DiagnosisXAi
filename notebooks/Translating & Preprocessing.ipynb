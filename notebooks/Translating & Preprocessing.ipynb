{
 "cells": [
  {
   "cell_type": "markdown",
   "id": "4ed5d59d",
   "metadata": {
    "papermill": {
     "duration": 0.008184,
     "end_time": "2025-05-16T20:59:24.299830",
     "exception": false,
     "start_time": "2025-05-16T20:59:24.291646",
     "status": "completed"
    },
    "tags": []
   },
   "source": [
    "<table style=\"width:100%; border-collapse:collapse; background-color:#121212; color:#ddd;\">\n",
    "  <thead>\n",
    "    <tr>\n",
    "      <th colspan=\"10\" style=\"background-color:#1f1f1f; color:#fff; padding:10px; text-align:center; border:1px solid #333; font-size:1.1em;\">\n",
    "        Age ⏳\n",
    "      </th>\n",
    "    </tr>\n",
    "  </thead>\n",
    "  <tbody>\n",
    "    <tr>\n",
    "      <td style=\"padding:6px; border:1px solid #333; text-align:center;\">0</td>\n",
    "      <td style=\"padding:6px; border:1px solid #333; text-align:center;\">1</td>\n",
    "      <td style=\"padding:6px; border:1px solid #333; text-align:center;\">2</td>\n",
    "      <td style=\"padding:6px; border:1px solid #333; text-align:center;\">3</td>\n",
    "      <td style=\"padding:6px; border:1px solid #333; text-align:center;\">4</td>\n",
    "      <td style=\"padding:6px; border:1px solid #333; text-align:center;\">5</td>\n",
    "      <td style=\"padding:6px; border:1px solid #333; text-align:center;\">6</td>\n",
    "      <td style=\"padding:6px; border:1px solid #333; text-align:center;\">7</td>\n",
    "      <td style=\"padding:6px; border:1px solid #333; text-align:center;\">8</td>\n",
    "      <td style=\"padding:6px; border:1px solid #333; text-align:center;\">9</td>\n",
    "    </tr>\n",
    "    <tr>\n",
    "      <td style=\"padding:6px; border:1px solid #333; text-align:center;\">10</td>\n",
    "      <td style=\"padding:6px; border:1px solid #333; text-align:center;\">11</td>\n",
    "      <td style=\"padding:6px; border:1px solid #333; text-align:center;\">12</td>\n",
    "      <td style=\"padding:6px; border:1px solid #333; text-align:center;\">13</td>\n",
    "      <td style=\"padding:6px; border:1px solid #333; text-align:center;\">14</td>\n",
    "      <td style=\"padding:6px; border:1px solid #333; text-align:center;\">15</td>\n",
    "      <td style=\"padding:6px; border:1px solid #333; text-align:center;\">16</td>\n",
    "      <td style=\"padding:6px; border:1px solid #333; text-align:center;\">17</td>\n",
    "      <td style=\"padding:6px; border:1px solid #333; text-align:center;\">18</td>\n",
    "      <td style=\"padding:6px; border:1px solid #333; text-align:center;\">19</td>\n",
    "    </tr>\n",
    "    <tr>\n",
    "      <td style=\"padding:6px; border:1px solid #333; text-align:center;\">20</td>\n",
    "      <td style=\"padding:6px; border:1px solid #333; text-align:center;\">21</td>\n",
    "      <td style=\"padding:6px; border:1px solid #333; text-align:center;\">22</td>\n",
    "      <td style=\"padding:6px; border:1px solid #333; text-align:center;\">23</td>\n",
    "      <td style=\"padding:6px; border:1px solid #333; text-align:center;\">24</td>\n",
    "      <td style=\"padding:6px; border:1px solid #333; text-align:center;\">25</td>\n",
    "      <td style=\"padding:6px; border:1px solid #333; text-align:center;\">26</td>\n",
    "      <td style=\"padding:6px; border:1px solid #333; text-align:center;\">27</td>\n",
    "      <td style=\"padding:6px; border:1px solid #333; text-align:center;\">28</td>\n",
    "      <td style=\"padding:6px; border:1px solid #333; text-align:center;\">29</td>\n",
    "    </tr>\n",
    "    <tr>\n",
    "      <td style=\"padding:6px; border:1px solid #333; text-align:center;\">30</td>\n",
    "      <td style=\"padding:6px; border:1px solid #333; text-align:center;\">31</td>\n",
    "      <td style=\"padding:6px; border:1px solid #333; text-align:center;\">32</td>\n",
    "      <td style=\"padding:6px; border:1px solid #333; text-align:center;\">33</td>\n",
    "      <td style=\"padding:6px; border:1px solid #333; text-align:center;\">34</td>\n",
    "      <td style=\"padding:6px; border:1px solid #333; text-align:center;\">35</td>\n",
    "      <td style=\"padding:6px; border:1px solid #333; text-align:center;\">36</td>\n",
    "      <td style=\"padding:6px; border:1px solid #333; text-align:center;\">37</td>\n",
    "      <td style=\"padding:6px; border:1px solid #333; text-align:center;\">38</td>\n",
    "      <td style=\"padding:6px; border:1px solid #333; text-align:center;\">39</td>\n",
    "    </tr>\n",
    "    <tr>\n",
    "      <td style=\"padding:6px; border:1px solid #333; text-align:center;\">40</td>\n",
    "      <td style=\"padding:6px; border:1px solid #333; text-align:center;\">41</td>\n",
    "      <td style=\"padding:6px; border:1px solid #333; text-align:center;\">42</td>\n",
    "      <td style=\"padding:6px; border:1px solid #333; text-align:center;\">43</td>\n",
    "      <td style=\"padding:6px; border:1px solid #333; text-align:center;\">44</td>\n",
    "      <td style=\"padding:6px; border:1px solid #333; text-align:center;\">45</td>\n",
    "      <td style=\"padding:6px; border:1px solid #333; text-align:center;\">46</td>\n",
    "      <td style=\"padding:6px; border:1px solid #333; text-align:center;\">47</td>\n",
    "      <td style=\"padding:6px; border:1px solid #333; text-align:center;\">48</td>\n",
    "      <td style=\"padding:6px; border:1px solid #333; text-align:center;\">49</td>\n",
    "    </tr>\n",
    "    <tr>\n",
    "      <td style=\"padding:6px; border:1px solid #333; text-align:center;\">50</td>\n",
    "      <td style=\"padding:6px; border:1px solid #333; text-align:center;\">51</td>\n",
    "      <td style=\"padding:6px; border:1px solid #333; text-align:center;\">52</td>\n",
    "      <td style=\"padding:6px; border:1px solid #333; text-align:center;\">53</td>\n",
    "      <td style=\"padding:6px; border:1px solid #333; text-align:center;\">54</td>\n",
    "      <td style=\"padding:6px; border:1px solid #333; text-align:center;\">55</td>\n",
    "      <td style=\"padding:6px; border:1px solid #333; text-align:center;\">56</td>\n",
    "      <td style=\"padding:6px; border:1px solid #333; text-align:center;\">57</td>\n",
    "      <td style=\"padding:6px; border:1px solid #333; text-align:center;\">58</td>\n",
    "      <td style=\"padding:6px; border:1px solid #333; text-align:center;\">59</td>\n",
    "    </tr>\n",
    "    <tr>\n",
    "      <td style=\"padding:6px; border:1px solid #333; text-align:center;\">60</td>\n",
    "      <td style=\"padding:6px; border:1px solid #333; text-align:center;\">61</td>\n",
    "      <td style=\"padding:6px; border:1px solid #333; text-align:center;\">62</td>\n",
    "      <td style=\"padding:6px; border:1px solid #333; text-align:center;\">63</td>\n",
    "      <td style=\"padding:6px; border:1px solid #333; text-align:center;\">64</td>\n",
    "      <td style=\"padding:6px; border:1px solid #333; text-align:center;\">65</td>\n",
    "      <td style=\"padding:6px; border:1px solid #333; text-align:center;\">66</td>\n",
    "      <td style=\"padding:6px; border:1px solid #333; text-align:center;\">67</td>\n",
    "      <td style=\"padding:6px; border:1px solid #333; text-align:center;\">68</td>\n",
    "      <td style=\"padding:6px; border:1px solid #333; text-align:center;\">69</td>\n",
    "    </tr>\n",
    "    <tr>\n",
    "      <td style=\"padding:6px; border:1px solid #333; text-align:center;\">70</td>\n",
    "      <td style=\"padding:6px; border:1px solid #333; text-align:center;\">71</td>\n",
    "      <td style=\"padding:6px; border:1px solid #333; text-align:center;\">72</td>\n",
    "      <td style=\"padding:6px; border:1px solid #333; text-align:center;\">73</td>\n",
    "      <td style=\"padding:6px; border:1px solid #333; text-align:center;\">74</td>\n",
    "      <td style=\"padding:6px; border:1px solid #333; text-align:center;\">75</td>\n",
    "      <td style=\"padding:6px; border:1px solid #333; text-align:center;\">76</td>\n",
    "      <td style=\"padding:6px; border:1px solid #333; text-align:center;\">77</td>\n",
    "      <td style=\"padding:6px; border:1px solid #333; text-align:center;\">78</td>\n",
    "      <td style=\"padding:6px; border:1px solid #333; text-align:center;\">79</td>\n",
    "    </tr>\n",
    "    <tr>\n",
    "      <td style=\"padding:6px; border:1px solid #333; text-align:center;\">80</td>\n",
    "      <td style=\"padding:6px; border:1px solid #333; text-align:center;\">81</td>\n",
    "      <td style=\"padding:6px; border:1px solid #333; text-align:center;\">82</td>\n",
    "      <td style=\"padding:6px; border:1px solid #333; text-align:center;\">83</td>\n",
    "      <td style=\"padding:6px; border:1px solid #333; text-align:center;\">84</td>\n",
    "      <td style=\"padding:6px; border:1px solid #333; text-align:center;\">85</td>\n",
    "      <td style=\"padding:6px; border:1px solid #333; text-align:center;\">86</td>\n",
    "      <td style=\"padding:6px; border:1px solid #333; text-align:center;\">87</td>\n",
    "      <td style=\"padding:6px; border:1px solid #333; text-align:center;\">88</td>\n",
    "      <td style=\"padding:6px; border:1px solid #333; text-align:center;\">89</td>\n",
    "    </tr>\n",
    "    <tr>\n",
    "      <td style=\"padding:6px; border:1px solid #333; text-align:center;\">90</td>\n",
    "      <td style=\"padding:6px; border:1px solid #333; text-align:center;\">91</td>\n",
    "      <td style=\"padding:6px; border:1px solid #333; text-align:center;\">92</td>\n",
    "      <td style=\"padding:6px; border:1px solid #333; text-align:center;\">93</td>\n",
    "      <td style=\"padding:6px; border:1px solid #333; text-align:center;\">94</td>\n",
    "      <td style=\"padding:6px; border:1px solid #333; text-align:center;\">95</td>\n",
    "      <td style=\"padding:6px; border:1px solid #333; text-align:center;\">96</td>\n",
    "      <td style=\"padding:6px; border:1px solid #333; text-align:center;\">97</td>\n",
    "      <td style=\"padding:6px; border:1px solid #333; text-align:center;\">98</td>\n",
    "      <td style=\"padding:6px; border:1px solid #333; text-align:center;\">99</td>\n",
    "    </tr>\n",
    "    <tr>\n",
    "      <td style=\"padding:6px; border:1px solid #333; text-align:center;\">100</td>\n",
    "      <td style=\"padding:6px; border:1px solid #333; text-align:center;\">101</td>\n",
    "      <td style=\"padding:6px; border:1px solid #333; text-align:center;\">102</td>\n",
    "      <td style=\"padding:6px; border:1px solid #333; text-align:center;\">103</td>\n",
    "      <td style=\"padding:6px; border:1px solid #333; text-align:center;\">104</td>\n",
    "      <td style=\"padding:6px; border:1px solid #333; text-align:center;\">105</td>\n",
    "      <td style=\"padding:6px; border:1px solid #333; text-align:center;\">106</td>\n",
    "      <td style=\"padding:6px; border:1px solid #333; text-align:center;\">107</td>\n",
    "      <td style=\"padding:6px; border:1px solid #333; text-align:center;\">108</td>\n",
    "      <td style=\"padding:6px; border:1px solid #333; text-align:center;\">109</td>\n",
    "    </tr>\n",
    "  </tbody>\n",
    "</table>\n"
   ]
  },
  {
   "cell_type": "code",
   "execution_count": 1,
   "id": "99bbc925",
   "metadata": {
    "_cell_guid": "b1076dfc-b9ad-4769-8c92-a6c4dae69d19",
    "_uuid": "8f2839f25d086af736a60e9eeb907d3b93b6e0e5",
    "execution": {
     "iopub.execute_input": "2025-05-16T20:59:24.314972Z",
     "iopub.status.busy": "2025-05-16T20:59:24.313944Z",
     "iopub.status.idle": "2025-05-16T20:59:28.784489Z",
     "shell.execute_reply": "2025-05-16T20:59:28.783548Z"
    },
    "papermill": {
     "duration": 4.479834,
     "end_time": "2025-05-16T20:59:28.786379",
     "exception": false,
     "start_time": "2025-05-16T20:59:24.306545",
     "status": "completed"
    },
    "tags": []
   },
   "outputs": [],
   "source": [
    "# -----Global------#\n",
    "import numpy as np \n",
    "import pandas as pd \n",
    "import matplotlib.pyplot as plt\n",
    "import seaborn as sns\n",
    "import json\n",
    "import ast\n",
    "from sklearn.preprocessing import LabelEncoder\n",
    "from sklearn.model_selection import train_test_split\n",
    "from sklearn.preprocessing import StandardScaler\n",
    "# -----modeling------#\n"
   ]
  },
  {
   "cell_type": "markdown",
   "id": "7c278b79",
   "metadata": {
    "papermill": {
     "duration": 0.005975,
     "end_time": "2025-05-16T20:59:28.799027",
     "exception": false,
     "start_time": "2025-05-16T20:59:28.793052",
     "status": "completed"
    },
    "tags": []
   },
   "source": [
    "##  ***Translation** 🌍🔤*"
   ]
  },
  {
   "cell_type": "code",
   "execution_count": 2,
   "id": "b33ab6bf",
   "metadata": {
    "execution": {
     "iopub.execute_input": "2025-05-16T20:59:28.813094Z",
     "iopub.status.busy": "2025-05-16T20:59:28.812628Z",
     "iopub.status.idle": "2025-05-16T20:59:56.132549Z",
     "shell.execute_reply": "2025-05-16T20:59:56.131591Z"
    },
    "papermill": {
     "duration": 27.328856,
     "end_time": "2025-05-16T20:59:56.134200",
     "exception": false,
     "start_time": "2025-05-16T20:59:28.805344",
     "status": "completed"
    },
    "tags": []
   },
   "outputs": [
    {
     "data": {
      "text/html": [
       "<div>\n",
       "<style scoped>\n",
       "    .dataframe tbody tr th:only-of-type {\n",
       "        vertical-align: middle;\n",
       "    }\n",
       "\n",
       "    .dataframe tbody tr th {\n",
       "        vertical-align: top;\n",
       "    }\n",
       "\n",
       "    .dataframe thead th {\n",
       "        text-align: right;\n",
       "    }\n",
       "</style>\n",
       "<table border=\"1\" class=\"dataframe\">\n",
       "  <thead>\n",
       "    <tr style=\"text-align: right;\">\n",
       "      <th></th>\n",
       "      <th>AGE</th>\n",
       "      <th>DIFFERENTIAL_DIAGNOSIS</th>\n",
       "      <th>SEX</th>\n",
       "      <th>PATHOLOGY</th>\n",
       "      <th>EVIDENCES</th>\n",
       "      <th>INITIAL_EVIDENCE</th>\n",
       "    </tr>\n",
       "  </thead>\n",
       "  <tbody>\n",
       "    <tr>\n",
       "      <th>0</th>\n",
       "      <td>18</td>\n",
       "      <td>[['Bronchite', 0.19171203430383882], ['Pneumon...</td>\n",
       "      <td>M</td>\n",
       "      <td>IVRS ou virémie</td>\n",
       "      <td>['crowd', 'diaph', 'douleurxx', 'douleurxx_car...</td>\n",
       "      <td>fievre</td>\n",
       "    </tr>\n",
       "    <tr>\n",
       "      <th>1</th>\n",
       "      <td>21</td>\n",
       "      <td>[['VIH (Primo-infection)', 0.5189500564407601]...</td>\n",
       "      <td>M</td>\n",
       "      <td>VIH (Primo-infection)</td>\n",
       "      <td>['adp_dlr', 'atcd_its', 'diaph', 'diarrhee', '...</td>\n",
       "      <td>diaph</td>\n",
       "    </tr>\n",
       "    <tr>\n",
       "      <th>2</th>\n",
       "      <td>19</td>\n",
       "      <td>[['Bronchite', 0.11278064619119596], ['Pneumon...</td>\n",
       "      <td>F</td>\n",
       "      <td>Pneumonie</td>\n",
       "      <td>['douleurxx', 'douleurxx_carac_@_un_coup_de_co...</td>\n",
       "      <td>expecto</td>\n",
       "    </tr>\n",
       "    <tr>\n",
       "      <th>3</th>\n",
       "      <td>34</td>\n",
       "      <td>[['IVRS ou virémie', 0.23859396799565236], ['C...</td>\n",
       "      <td>F</td>\n",
       "      <td>IVRS ou virémie</td>\n",
       "      <td>['crowd', 'douleurxx', 'douleurxx_carac_@_une_...</td>\n",
       "      <td>douleurxx</td>\n",
       "    </tr>\n",
       "    <tr>\n",
       "      <th>4</th>\n",
       "      <td>36</td>\n",
       "      <td>[['IVRS ou virémie', 0.23677812769175735], ['P...</td>\n",
       "      <td>M</td>\n",
       "      <td>IVRS ou virémie</td>\n",
       "      <td>['dayc', 'diaph', 'douleurxx', 'douleurxx_cara...</td>\n",
       "      <td>toux</td>\n",
       "    </tr>\n",
       "  </tbody>\n",
       "</table>\n",
       "</div>"
      ],
      "text/plain": [
       "   AGE                             DIFFERENTIAL_DIAGNOSIS SEX  \\\n",
       "0   18  [['Bronchite', 0.19171203430383882], ['Pneumon...   M   \n",
       "1   21  [['VIH (Primo-infection)', 0.5189500564407601]...   M   \n",
       "2   19  [['Bronchite', 0.11278064619119596], ['Pneumon...   F   \n",
       "3   34  [['IVRS ou virémie', 0.23859396799565236], ['C...   F   \n",
       "4   36  [['IVRS ou virémie', 0.23677812769175735], ['P...   M   \n",
       "\n",
       "               PATHOLOGY                                          EVIDENCES  \\\n",
       "0        IVRS ou virémie  ['crowd', 'diaph', 'douleurxx', 'douleurxx_car...   \n",
       "1  VIH (Primo-infection)  ['adp_dlr', 'atcd_its', 'diaph', 'diarrhee', '...   \n",
       "2              Pneumonie  ['douleurxx', 'douleurxx_carac_@_un_coup_de_co...   \n",
       "3        IVRS ou virémie  ['crowd', 'douleurxx', 'douleurxx_carac_@_une_...   \n",
       "4        IVRS ou virémie  ['dayc', 'diaph', 'douleurxx', 'douleurxx_cara...   \n",
       "\n",
       "  INITIAL_EVIDENCE  \n",
       "0           fievre  \n",
       "1            diaph  \n",
       "2          expecto  \n",
       "3        douleurxx  \n",
       "4             toux  "
      ]
     },
     "execution_count": 2,
     "metadata": {},
     "output_type": "execute_result"
    }
   ],
   "source": [
    "df_train = pd.read_csv(\"/kaggle/input/release-train-patients/release_train_patients.csv\")\n",
    "df_test = pd.read_csv(\"/kaggle/input/release-test-patients/release_test_patients.csv\")\n",
    "df_val = pd.read_csv(\"/kaggle/input/release-validate-patients/release_validate_patients.csv\")\n",
    "df_train.head(5)"
   ]
  },
  {
   "cell_type": "code",
   "execution_count": 3,
   "id": "d65b9c8c",
   "metadata": {
    "execution": {
     "iopub.execute_input": "2025-05-16T20:59:56.149603Z",
     "iopub.status.busy": "2025-05-16T20:59:56.148596Z",
     "iopub.status.idle": "2025-05-16T20:59:56.168278Z",
     "shell.execute_reply": "2025-05-16T20:59:56.166837Z"
    },
    "papermill": {
     "duration": 0.028978,
     "end_time": "2025-05-16T20:59:56.170085",
     "exception": false,
     "start_time": "2025-05-16T20:59:56.141107",
     "status": "completed"
    },
    "tags": []
   },
   "outputs": [],
   "source": [
    "with open(\"/kaggle/input/translate-files/release_evidences.json\",'r') as e:\n",
    "    Evidence = json.load(e)\n",
    "    \n",
    "with open(\"/kaggle/input/translate-files/release_conditions.json\",'r') as c:\n",
    "    Conditions = json.load(c)"
   ]
  },
  {
   "cell_type": "code",
   "execution_count": 4,
   "id": "49a508fc",
   "metadata": {
    "execution": {
     "iopub.execute_input": "2025-05-16T20:59:56.185023Z",
     "iopub.status.busy": "2025-05-16T20:59:56.184683Z",
     "iopub.status.idle": "2025-05-16T20:59:56.190837Z",
     "shell.execute_reply": "2025-05-16T20:59:56.189800Z"
    },
    "papermill": {
     "duration": 0.015235,
     "end_time": "2025-05-16T20:59:56.192359",
     "exception": false,
     "start_time": "2025-05-16T20:59:56.177124",
     "status": "completed"
    },
    "tags": []
   },
   "outputs": [
    {
     "name": "stdout",
     "output_type": "stream",
     "text": [
      "<class 'dict'>\n",
      "('fievre', {'name': 'fievre', 'code_question': 'fievre', 'question_fr': 'Avez-vous objectivé ou ressenti de la fièvre?', 'question_en': 'Do you have a fever (either felt or measured with a thermometer)?', 'is_antecedent': False, 'default_value': 0, 'value_meaning': {}, 'possible-values': [], 'data_type': 'B'})\n"
     ]
    }
   ],
   "source": [
    "print(type(Evidence))         \n",
    "print(list(Evidence.items())[0])"
   ]
  },
  {
   "cell_type": "code",
   "execution_count": 5,
   "id": "97e56ef5",
   "metadata": {
    "execution": {
     "iopub.execute_input": "2025-05-16T20:59:56.207778Z",
     "iopub.status.busy": "2025-05-16T20:59:56.207371Z",
     "iopub.status.idle": "2025-05-16T20:59:56.213606Z",
     "shell.execute_reply": "2025-05-16T20:59:56.212659Z"
    },
    "papermill": {
     "duration": 0.015699,
     "end_time": "2025-05-16T20:59:56.215221",
     "exception": false,
     "start_time": "2025-05-16T20:59:56.199522",
     "status": "completed"
    },
    "tags": []
   },
   "outputs": [],
   "source": [
    "evidence_map = { ev['name']: ev['question_en'] for ev in Evidence.values()}\n",
    "conditions_map = { co['condition_name']: co['cond-name-eng'] for co in Conditions.values()}"
   ]
  },
  {
   "cell_type": "code",
   "execution_count": 6,
   "id": "fcd6f486",
   "metadata": {
    "execution": {
     "iopub.execute_input": "2025-05-16T20:59:56.230433Z",
     "iopub.status.busy": "2025-05-16T20:59:56.229488Z",
     "iopub.status.idle": "2025-05-16T20:59:56.384518Z",
     "shell.execute_reply": "2025-05-16T20:59:56.383479Z"
    },
    "papermill": {
     "duration": 0.164457,
     "end_time": "2025-05-16T20:59:56.386384",
     "exception": false,
     "start_time": "2025-05-16T20:59:56.221927",
     "status": "completed"
    },
    "tags": []
   },
   "outputs": [],
   "source": [
    "df_train['PATHOLOGY'] = df_train['PATHOLOGY'].map(conditions_map)\n",
    "df_test['PATHOLOGY'] = df_test['PATHOLOGY'].map(conditions_map)\n",
    "df_val['PATHOLOGY'] = df_val['PATHOLOGY'].map(conditions_map)"
   ]
  },
  {
   "cell_type": "code",
   "execution_count": 7,
   "id": "c7a8944e",
   "metadata": {
    "execution": {
     "iopub.execute_input": "2025-05-16T20:59:56.401891Z",
     "iopub.status.busy": "2025-05-16T20:59:56.401037Z",
     "iopub.status.idle": "2025-05-16T20:59:56.413026Z",
     "shell.execute_reply": "2025-05-16T20:59:56.412028Z"
    },
    "papermill": {
     "duration": 0.02164,
     "end_time": "2025-05-16T20:59:56.414922",
     "exception": false,
     "start_time": "2025-05-16T20:59:56.393282",
     "status": "completed"
    },
    "tags": []
   },
   "outputs": [
    {
     "data": {
      "text/plain": [
       "\"['crowd', 'diaph', 'douleurxx', 'douleurxx_carac_@_sensible', 'douleurxx_carac_@_une_lourdeur_ou_serrement', 'douleurxx_endroitducorps_@_front', 'douleurxx_endroitducorps_@_joue_D_', 'douleurxx_endroitducorps_@_tempe_G_', 'douleurxx_intens_@_4', 'douleurxx_irrad_@_nulle_part', 'douleurxx_precis_@_3', 'douleurxx_soudain_@_3', 'expecto', 'f17.210', 'fievre', 'gorge_dlr', 'toux', 'trav1_@_N', 'z77.22']\""
      ]
     },
     "execution_count": 7,
     "metadata": {},
     "output_type": "execute_result"
    }
   ],
   "source": [
    "df_train.iloc[[0]][\"EVIDENCES\"][0]"
   ]
  },
  {
   "cell_type": "code",
   "execution_count": 8,
   "id": "6e9ac440",
   "metadata": {
    "execution": {
     "iopub.execute_input": "2025-05-16T20:59:56.442508Z",
     "iopub.status.busy": "2025-05-16T20:59:56.442066Z",
     "iopub.status.idle": "2025-05-16T21:01:39.941843Z",
     "shell.execute_reply": "2025-05-16T21:01:39.940845Z"
    },
    "papermill": {
     "duration": 103.51523,
     "end_time": "2025-05-16T21:01:39.943674",
     "exception": false,
     "start_time": "2025-05-16T20:59:56.428444",
     "status": "completed"
    },
    "tags": []
   },
   "outputs": [],
   "source": [
    "def Translate_DIFFERENTIAL_DIAGNOSIS (record):\n",
    "    record = ast.literal_eval(record)\n",
    "    record = [[conditions_map.get(name,name),value] for name,value in record]\n",
    "    return record\n",
    "\n",
    "df_train[\"DIFFERENTIAL_DIAGNOSIS\"] = df_train[\"DIFFERENTIAL_DIAGNOSIS\"].apply(Translate_DIFFERENTIAL_DIAGNOSIS)\n",
    "df_test[\"DIFFERENTIAL_DIAGNOSIS\"] = df_test[\"DIFFERENTIAL_DIAGNOSIS\"].apply(Translate_DIFFERENTIAL_DIAGNOSIS)\n",
    "df_val[\"DIFFERENTIAL_DIAGNOSIS\"] = df_val[\"DIFFERENTIAL_DIAGNOSIS\"].apply(Translate_DIFFERENTIAL_DIAGNOSIS)"
   ]
  },
  {
   "cell_type": "code",
   "execution_count": 9,
   "id": "99bae74d",
   "metadata": {
    "execution": {
     "iopub.execute_input": "2025-05-16T21:01:39.959051Z",
     "iopub.status.busy": "2025-05-16T21:01:39.958727Z",
     "iopub.status.idle": "2025-05-16T21:01:39.965514Z",
     "shell.execute_reply": "2025-05-16T21:01:39.964726Z"
    },
    "papermill": {
     "duration": 0.015944,
     "end_time": "2025-05-16T21:01:39.966870",
     "exception": false,
     "start_time": "2025-05-16T21:01:39.950926",
     "status": "completed"
    },
    "tags": []
   },
   "outputs": [],
   "source": [
    "def Translate_EVIDENCES (record):\n",
    "    record = record.strip('[]').split(\",\")\n",
    "    record_out = []\n",
    "    for item in record:\n",
    "        symptom = item.split(\"_@_\")[0].strip(\" '\\\"]\")\n",
    "        symptom = evidence_map.get(symptom,symptom)\n",
    "        if '_@_' not in item:\n",
    "            val = \"unknown\"\n",
    "        else:\n",
    "            val = item.split(\"_@_\")[-1].strip(\" '\\\"]\")\n",
    "        record_out.append([ symptom , val ])\n",
    "        ,\n",
    "    return record_out"
   ]
  },
  {
   "cell_type": "code",
   "execution_count": 10,
   "id": "fbecb01f",
   "metadata": {
    "execution": {
     "iopub.execute_input": "2025-05-16T21:01:39.982242Z",
     "iopub.status.busy": "2025-05-16T21:01:39.981808Z",
     "iopub.status.idle": "2025-05-16T21:02:13.229682Z",
     "shell.execute_reply": "2025-05-16T21:02:13.228834Z"
    },
    "papermill": {
     "duration": 33.257586,
     "end_time": "2025-05-16T21:02:13.231434",
     "exception": false,
     "start_time": "2025-05-16T21:01:39.973848",
     "status": "completed"
    },
    "tags": []
   },
   "outputs": [],
   "source": [
    "df_train['EVIDENCES'] = df_train['EVIDENCES'].apply(Translate_EVIDENCES)\n",
    "df_test['EVIDENCES'] = df_test['EVIDENCES'].apply(Translate_EVIDENCES)\n",
    "df_val['EVIDENCES'] = df_val['EVIDENCES'].apply(Translate_EVIDENCES)"
   ]
  },
  {
   "cell_type": "code",
   "execution_count": 11,
   "id": "6cf612a3",
   "metadata": {
    "execution": {
     "iopub.execute_input": "2025-05-16T21:02:13.246183Z",
     "iopub.status.busy": "2025-05-16T21:02:13.245864Z",
     "iopub.status.idle": "2025-05-16T21:02:13.511834Z",
     "shell.execute_reply": "2025-05-16T21:02:13.511021Z"
    },
    "papermill": {
     "duration": 0.275261,
     "end_time": "2025-05-16T21:02:13.513603",
     "exception": false,
     "start_time": "2025-05-16T21:02:13.238342",
     "status": "completed"
    },
    "tags": []
   },
   "outputs": [],
   "source": [
    "df_train['INITIAL_EVIDENCE'] = df_train['INITIAL_EVIDENCE'].apply(lambda x: evidence_map.get(x,x))\n",
    "df_test['INITIAL_EVIDENCE'] = df_test['INITIAL_EVIDENCE'].apply(lambda x: evidence_map.get(x,x))\n",
    "df_val['INITIAL_EVIDENCE'] = df_val['INITIAL_EVIDENCE'].apply(lambda x: evidence_map.get(x,x))"
   ]
  },
  {
   "cell_type": "markdown",
   "id": "5878019e",
   "metadata": {
    "papermill": {
     "duration": 0.006952,
     "end_time": "2025-05-16T21:02:13.527626",
     "exception": false,
     "start_time": "2025-05-16T21:02:13.520674",
     "status": "completed"
    },
    "tags": []
   },
   "source": [
    "##  ***DEA** 📊🔍*"
   ]
  },
  {
   "cell_type": "code",
   "execution_count": 12,
   "id": "93f4cda5",
   "metadata": {
    "execution": {
     "iopub.execute_input": "2025-05-16T21:02:13.542515Z",
     "iopub.status.busy": "2025-05-16T21:02:13.542173Z",
     "iopub.status.idle": "2025-05-16T21:02:14.040309Z",
     "shell.execute_reply": "2025-05-16T21:02:14.039427Z"
    },
    "papermill": {
     "duration": 0.507717,
     "end_time": "2025-05-16T21:02:14.042260",
     "exception": false,
     "start_time": "2025-05-16T21:02:13.534543",
     "status": "completed"
    },
    "tags": []
   },
   "outputs": [
    {
     "name": "stdout",
     "output_type": "stream",
     "text": [
      "columns is ==> SEX\n",
      "unique values length => 2\n",
      "['M' 'F']\n",
      "columns is ==> PATHOLOGY\n",
      "unique values length => 49\n",
      "['URTI' 'HIV (initial infection)' 'Pneumonia' 'Chronic rhinosinusitis'\n",
      " 'Viral pharyngitis' 'Anemia' 'Atrial fibrillation' 'Allergic sinusitis'\n",
      " 'Larygospasm' 'Cluster headache' 'Anaphylaxis' 'Spontaneous pneumothorax'\n",
      " 'Acute pulmonary edema' 'Tuberculosis' 'Myasthenia gravis' 'Panic attack'\n",
      " 'Scombroid food poisoning' 'Epiglottitis' 'Inguinal hernia' 'Boerhaave'\n",
      " 'Pancreatic neoplasm' 'Bronchitis' 'SLE' 'Acute laryngitis'\n",
      " 'Unstable angina' 'Bronchiectasis' 'Possible NSTEMI / STEMI' 'Chagas'\n",
      " 'Localized edema' 'Sarcoidosis' 'Spontaneous rib fracture' 'GERD'\n",
      " 'Bronchospasm / acute asthma exacerbation'\n",
      " 'Acute COPD exacerbation / infection' 'Guillain-Barré syndrome'\n",
      " 'Influenza' 'Pulmonary embolism' 'Stable angina' 'Pericarditis'\n",
      " 'Acute rhinosinusitis' 'Whooping cough' 'Myocarditis'\n",
      " 'Acute dystonic reactions' 'Pulmonary neoplasm' 'Acute otitis media'\n",
      " 'PSVT' 'Croup' 'Ebola' 'Bronchiolitis']\n",
      "columns is ==> INITIAL_EVIDENCE\n",
      "unique values length => 96\n",
      "['Do you have a fever (either felt or measured with a thermometer)?'\n",
      " 'Have you had significantly increased sweating?'\n",
      " 'Do you have a cough that produces colored or more abundant sputum than usual?'\n",
      " 'Do you have pain somewhere, related to your reason for consulting?'\n",
      " 'Do you have a cough?'\n",
      " 'Do you feel so tired that you are unable to do your usual activities or are you stuck in your bed all day long?'\n",
      " 'Are you experiencing shortness of breath or difficulty breathing in a significant way?'\n",
      " 'Is your nose or the back of your throat itchy?'\n",
      " 'Have you noticed a high pitched sound when breathing in?'\n",
      " 'Do you have nasal congestion or a clear runny nose?'\n",
      " 'Did you lose consciousness?' 'Have you been coughing up blood?'\n",
      " 'Do you have the perception of seeing two images of a single object seen overlapping or adjacent to each other (double vision)?'\n",
      " 'Do you currently, or did you ever, have numbness, loss of sensitivity or tingling anywhere on your body?'\n",
      " 'Do you feel lightheaded and dizzy or do you feel like you are about to faint?'\n",
      " 'Have you noticed that you produce more saliva than usual?'\n",
      " 'Do you have intense coughing fits?'\n",
      " 'Have you had an involuntary weight loss over the last 3 months?'\n",
      " 'Do you have a sore throat?'\n",
      " 'Are you feeling nauseous or do you feel like vomiting?'\n",
      " 'Did your cheeks suddenly turn red?'\n",
      " 'Have you noticed that the tone of your voice has become deeper, softer or hoarse?'\n",
      " 'Do you have swollen or painful lymph nodes?'\n",
      " 'Do you have severe itching in one or both eyes?'\n",
      " 'Do you have pain that is increased when you breathe in deeply?'\n",
      " 'Do you feel your heart is beating fast (racing), irregularly (missing a beat) or do you feel palpitations?'\n",
      " 'Do you have diffuse (widespread) muscle pain?'\n",
      " 'Have you noticed any new fatigue, generalized and vague discomfort, diffuse (widespread) muscle aches or a change in your general well-being related to your consultation today?'\n",
      " 'Have you been in contact with or ate something that you have an allergy to?'\n",
      " 'Are your symptoms worse when lying down and alleviated while sitting up?'\n",
      " 'Do your symptoms of muscle weakness increase with fatigue and/or stress?'\n",
      " 'Have you noticed a wheezing sound when you exhale?'\n",
      " 'Have you noticed weakness in your facial muscles and/or eyes?'\n",
      " 'Do you have difficulty swallowing, or have a feeling of discomfort/blockage when swallowing?'\n",
      " 'Do you have swelling in one or more areas of your body?'\n",
      " 'Do you have symptoms that are increased with physical exertion but alleviated with rest?'\n",
      " 'Have you gained weight recently?'\n",
      " 'Do you have symptoms that get worse after eating?'\n",
      " 'Do you have greenish or yellowish nasal discharge?'\n",
      " 'Did you vomit after coughing?'\n",
      " 'Have you recently thrown up blood or something resembling coffee beans?'\n",
      " 'Do you have difficulty articulating words/speaking?'\n",
      " 'Do you have any lesions, redness or problems on your skin that you believe are related to the condition you are consulting for?'\n",
      " 'Do you feel slightly dizzy or lightheaded?'\n",
      " 'Have you recently had a loss of appetite or do you get full more quickly then usually?'\n",
      " 'Have you recently had stools that were black (like coal)?'\n",
      " 'Do you have annoying muscle spasms in your face, neck or any other part of your body?'\n",
      " 'Do you have pain that is increased with movement?'\n",
      " 'Have you noticed light red blood or blood clots in your stool?'\n",
      " 'Have you noticed a diffuse (widespread) redness in one or both eyes?'\n",
      " 'Are you unable to control the direction of your eyes?'\n",
      " 'Do you constantly feel fatigued or do you have non-restful sleep?'\n",
      " 'Did you previously, or do you currently, have any weakness/paralysis in one or more of your limbs or in your face?'\n",
      " 'Is your skin much paler than usual?'\n",
      " 'Have you vomited several times or have you made several efforts to vomit?'\n",
      " 'Have you had chills or shivers?'\n",
      " 'Do you have pale stools and dark urine?'\n",
      " 'Have you had diarrhea or an increase in stool frequency?'\n",
      " 'Have you been able to pass stools or gas since your symptoms increased?'\n",
      " 'Do you feel your heart is beating very irregularly or in a disorganized pattern?'\n",
      " 'Do you feel that your eyes produce excessive tears?'\n",
      " 'Are you more irritable or has your mood been very unstable recently?'\n",
      " 'Do you have pain that improves when you lean forward?'\n",
      " 'Are your symptoms more prominent at night?'\n",
      " 'Do you feel like you are detached from your own body or your surroundings?'\n",
      " 'Have you lost your sense of smell?'\n",
      " 'Do you have a hard time opening/raising one or both eyelids?'\n",
      " 'Do you suddenly have difficulty or an inability to open your mouth or have jaw pain when opening it?'\n",
      " 'Do you have numbness, loss of sensation or tingling in the feet?'\n",
      " 'Are the symptoms or pain increased with coughing, with an effort like lifting a weight or from forcing a bowel movement?'\n",
      " 'Do you have very abundant or very long menstruation periods?'\n",
      " 'Do you feel like you are dying or were you afraid that you were about do die?'\n",
      " 'Do you feel that muscle spasms or soreness in your neck are keeping you from turning your head to one side?'\n",
      " 'Do you have a burning sensation that starts in your stomach then goes up into your throat, and can be associated with a bitter taste in your mouth?'\n",
      " 'Do you have painful mouth ulcers or sores?'\n",
      " 'Have you had any vaginal discharge?'\n",
      " 'Do you feel weakness in both arms and/or both legs?'\n",
      " 'Have you had weakness or paralysis on one side of the face, which may still be present or completely resolved?'\n",
      " 'Do you feel like you are (or were) choking or suffocating?'\n",
      " 'Have you recently had numbness, loss of sensation or tingling, in both arms and legs and around your mouth?'\n",
      " 'Have you ever felt like you were suffocating for a very short time associated with inability to breathe or speak?'\n",
      " 'Have you been unintentionally losing weight or have you lost your appetite?'\n",
      " 'Do you have chest pain even at rest?'\n",
      " 'Do you wheeze while inhaling or is your breathing noisy after coughing spells?'\n",
      " 'Do you have bouts of choking or shortness of breath that wake you up at night?'\n",
      " 'Do you feel your abdomen is bloated or distended (swollen due to pressure from inside)?'\n",
      " 'Do you have pain or weakness in your jaw?'\n",
      " 'Do you find that your symptoms have worsened over the last 2 weeks and that progressively less effort is required to cause the symptoms?'\n",
      " 'Do you feel out of breath with minimal physical effort?'\n",
      " 'Do you have trouble keeping your tongue in your mouth?'\n",
      " 'Have you lost consciousness associated with violent and sustained muscle contractions or had an absence episode?'\n",
      " 'Does the person have a whooping cough?'\n",
      " 'Do you ever temporarily stop breathing while you’re asleep?'\n",
      " 'Have you felt confused or disorientated lately?'\n",
      " 'Do you have a decrease in appetite?'\n",
      " 'Have you noticed any unusual bleeding or bruising related to your consultation today?']\n"
     ]
    }
   ],
   "source": [
    "for col in [\"SEX\",\"PATHOLOGY\",\"INITIAL_EVIDENCE\"]:\n",
    "    print(f\"columns is ==> {col}\")\n",
    "    print(f\"unique values length => {df_train[col].nunique()}\")\n",
    "    print(df_train[col].unique())"
   ]
  },
  {
   "cell_type": "code",
   "execution_count": 13,
   "id": "8ac2f2c1",
   "metadata": {
    "execution": {
     "iopub.execute_input": "2025-05-16T21:02:14.058162Z",
     "iopub.status.busy": "2025-05-16T21:02:14.057795Z",
     "iopub.status.idle": "2025-05-16T21:02:14.064103Z",
     "shell.execute_reply": "2025-05-16T21:02:14.063213Z"
    },
    "papermill": {
     "duration": 0.015773,
     "end_time": "2025-05-16T21:02:14.065535",
     "exception": false,
     "start_time": "2025-05-16T21:02:14.049762",
     "status": "completed"
    },
    "tags": []
   },
   "outputs": [
    {
     "data": {
      "text/plain": [
       "[['Bronchitis', 0.19171203430383882],\n",
       " ['Pneumonia', 0.17579340398940366],\n",
       " ['URTI', 0.1607809719801254],\n",
       " ['Bronchiectasis', 0.12429044460990353],\n",
       " ['Tuberculosis', 0.11367177304035844],\n",
       " ['Influenza', 0.11057936110639896],\n",
       " ['HIV (initial infection)', 0.07333003867293564],\n",
       " ['Chagas', 0.04984197229703562]]"
      ]
     },
     "execution_count": 13,
     "metadata": {},
     "output_type": "execute_result"
    }
   ],
   "source": [
    "df_train[\"DIFFERENTIAL_DIAGNOSIS\"][0]"
   ]
  },
  {
   "cell_type": "code",
   "execution_count": 14,
   "id": "1f83dc1b",
   "metadata": {
    "execution": {
     "iopub.execute_input": "2025-05-16T21:02:14.081724Z",
     "iopub.status.busy": "2025-05-16T21:02:14.081425Z",
     "iopub.status.idle": "2025-05-16T21:02:14.087611Z",
     "shell.execute_reply": "2025-05-16T21:02:14.086725Z"
    },
    "papermill": {
     "duration": 0.01626,
     "end_time": "2025-05-16T21:02:14.089332",
     "exception": false,
     "start_time": "2025-05-16T21:02:14.073072",
     "status": "completed"
    },
    "tags": []
   },
   "outputs": [],
   "source": [
    "def Splitting_DIFFERENTIAL_DIAGNOSIS_Columns (df):\n",
    "\n",
    "    dict_DIFFERENTIAL_DIAGNOSIS = df[\"DIFFERENTIAL_DIAGNOSIS\"].apply(lambda x: dict(x))\n",
    "    dict_EVIDENCES  = df[\"EVIDENCES\"].apply(lambda x: dict(x))\n",
    "\n",
    "    DIFFERENTIAL_DIAGNOSIS_df = pd.DataFrame( data = dict_DIFFERENTIAL_DIAGNOSIS.to_list()).fillna(0)\n",
    "    EVIDENCES_df = pd.DataFrame( data = dict_EVIDENCES.to_list()).fillna(\"unknown\")\n",
    "\n",
    "    df_new = pd.concat([df,DIFFERENTIAL_DIAGNOSIS_df,EVIDENCES_df],axis =1)\n",
    "    df_new.drop([\"DIFFERENTIAL_DIAGNOSIS\",\"EVIDENCES\",\"INITIAL_EVIDENCE\",\"PATHOLOGY\"],axis = 1,inplace = True)\n",
    "\n",
    "    return df_new"
   ]
  },
  {
   "cell_type": "code",
   "execution_count": 15,
   "id": "469a94ec",
   "metadata": {
    "execution": {
     "iopub.execute_input": "2025-05-16T21:02:14.105758Z",
     "iopub.status.busy": "2025-05-16T21:02:14.105429Z",
     "iopub.status.idle": "2025-05-16T21:03:58.097811Z",
     "shell.execute_reply": "2025-05-16T21:03:58.096157Z"
    },
    "papermill": {
     "duration": 104.004359,
     "end_time": "2025-05-16T21:03:58.101648",
     "exception": false,
     "start_time": "2025-05-16T21:02:14.097289",
     "status": "completed"
    },
    "tags": []
   },
   "outputs": [],
   "source": [
    "df_train_final = Splitting_DIFFERENTIAL_DIAGNOSIS_Columns(df_train)\n",
    "\n",
    "df_test_final = Splitting_DIFFERENTIAL_DIAGNOSIS_Columns(df_test)\n",
    "\n",
    "df_val_final = Splitting_DIFFERENTIAL_DIAGNOSIS_Columns(df_val)"
   ]
  },
  {
   "cell_type": "code",
   "execution_count": 16,
   "id": "3eb406f8",
   "metadata": {
    "execution": {
     "iopub.execute_input": "2025-05-16T21:03:58.123048Z",
     "iopub.status.busy": "2025-05-16T21:03:58.121944Z",
     "iopub.status.idle": "2025-05-16T21:03:58.130237Z",
     "shell.execute_reply": "2025-05-16T21:03:58.129181Z"
    },
    "papermill": {
     "duration": 0.02085,
     "end_time": "2025-05-16T21:03:58.133460",
     "exception": false,
     "start_time": "2025-05-16T21:03:58.112610",
     "status": "completed"
    },
    "tags": []
   },
   "outputs": [
    {
     "name": "stdout",
     "output_type": "stream",
     "text": [
      "number of columns is  => 274\n",
      "AGE\n",
      "SEX\n",
      "Bronchitis\n",
      "Pneumonia\n",
      "URTI\n",
      "Bronchiectasis\n",
      "Tuberculosis\n",
      "Influenza\n",
      "HIV (initial infection)\n",
      "Chagas\n",
      "Scombroid food poisoning\n",
      "Sarcoidosis\n",
      "Unstable angina\n",
      "Possible NSTEMI / STEMI\n",
      "Boerhaave\n",
      "Spontaneous rib fracture\n",
      "Pericarditis\n",
      "Stable angina\n",
      "GERD\n",
      "Panic attack\n",
      "Cluster headache\n",
      "Chronic rhinosinusitis\n",
      "Acute rhinosinusitis\n",
      "Anemia\n",
      "Acute laryngitis\n",
      "Viral pharyngitis\n",
      "Anaphylaxis\n",
      "PSVT\n",
      "Atrial fibrillation\n",
      "Acute pulmonary edema\n",
      "Guillain-Barré syndrome\n",
      "Myocarditis\n",
      "Acute dystonic reactions\n",
      "Myasthenia gravis\n",
      "SLE\n",
      "Allergic sinusitis\n",
      "Croup\n",
      "Larygospasm\n",
      "Pancreatic neoplasm\n",
      "Inguinal hernia\n",
      "Pulmonary embolism\n",
      "Spontaneous pneumothorax\n",
      "Pulmonary neoplasm\n",
      "Epiglottitis\n",
      "Whooping cough\n",
      "Bronchospasm / acute asthma exacerbation\n",
      "Localized edema\n",
      "Acute COPD exacerbation / infection\n",
      "Ebola\n",
      "Acute otitis media\n",
      "Bronchiolitis\n",
      "Do you live with 4 or more people?\n",
      "Have you had significantly increased sweating?\n",
      "Do you have pain somewhere, related to your reason for consulting?\n",
      "Characterize your pain:\n",
      "Do you feel pain somewhere?\n",
      "How intense is the pain?\n",
      "Does the pain radiate to another location?\n",
      "How precisely is the pain located?\n",
      "How fast did the pain appear?\n",
      "Do you have a cough that produces colored or more abundant sputum than usual?\n",
      "Do you smoke cigarettes?\n",
      "Do you have a fever (either felt or measured with a thermometer)?\n",
      "Do you have a sore throat?\n",
      "Do you have a cough?\n",
      "Have you traveled out of the country in the last 4 weeks?\n",
      "Are you exposed to secondhand cigarette smoke on a daily basis?\n",
      "Do you have swollen or painful lymph nodes?\n",
      "Have you ever had a sexually transmitted infection?\n",
      "Have you had diarrhea or an increase in stool frequency?\n",
      "Have you had unprotected sex with more than one partner in the last 6 months?\n",
      "Do you have any lesions, redness or problems on your skin that you believe are related to the condition you are consulting for?\n",
      "What color is the rash?\n",
      "Do your lesions peel off?\n",
      "Is the rash swollen?\n",
      "Where is the affected region located?\n",
      "How intense is the pain caused by the rash?\n",
      "Is the lesion (or are the lesions) larger than 1cm?\n",
      "How severe is the itching?\n",
      "Are you feeling nauseous or do you feel like vomiting?\n",
      "Have you had an involuntary weight loss over the last 3 months?\n",
      "Have you had sexual intercourse with an HIV-positive partner in the past 12 months?\n",
      "Do you drink alcohol excessively or do you have an addiction to alcohol?\n",
      "Have you had chills or shivers?\n",
      "Do you have heart failure?\n",
      "Have you ever had pneumonia?\n",
      "Do you have a chronic obstructive pulmonary disease (COPD)?\n",
      "Do you have asthma or have you ever had to use a bronchodilator in the past?\n",
      "Do you have diffuse (widespread) muscle pain?\n",
      "Have you noticed any new fatigue, generalized and vague discomfort, diffuse (widespread) muscle aches or a change in your general well-being related to your consultation today?\n",
      "Do you have nasal congestion or a clear runny nose?\n",
      "Do you attend or work in a daycare?\n",
      "Have you lost your sense of smell?\n",
      "Have you had a cold in the last 2 weeks?\n",
      "Do you have polyps in your nose?\n",
      "Do you have a deviated nasal septum?\n",
      "Have you ever been diagnosed with gastroesophageal reflux?\n",
      "Do you have greenish or yellowish nasal discharge?\n",
      "Are you more likely to develop common allergies than the general population?\n",
      "Have you been in contact with a person with similar symptoms in the past 2 weeks?\n",
      "Are you immunosuppressed?\n",
      "Do you have a poor diet?\n",
      "Have you ever had a diagnosis of anemia?\n",
      "Do you feel lightheaded and dizzy or do you feel like you are about to faint?\n",
      "Do you feel so tired that you are unable to do your usual activities or are you stuck in your bed all day long?\n",
      "Do you have chronic kidney failure?\n",
      "Have you recently had stools that were black (like coal)?\n",
      "Are you taking any new oral anticoagulants ((NOACs)?\n",
      "Is your skin much paler than usual?\n",
      "Is your BMI less than 18.5, or are you underweight?\n",
      "Have you been diagnosed with hyperthyroidism?\n",
      "Do you have a known issue with one of your heart valves?\n",
      "Do you have severe Chronic Obstructive Pulmonary Disease (COPD)?\n",
      "Are you experiencing shortness of breath or difficulty breathing in a significant way?\n",
      "Do you have diabetes?\n",
      "Are you significantly overweight compared to people of the same height as you?\n",
      "Do you feel slightly dizzy or lightheaded?\n",
      "Do you have high blood pressure or do you take medications to treat high blood pressure?\n",
      "Have you ever had a heart attack or do you have angina (chest pain)?\n",
      "Do you have a known heart defect?\n",
      "Do you feel your heart is beating fast (racing), irregularly (missing a beat) or do you feel palpitations?\n",
      "Do you have symptoms that are increased with physical exertion but alleviated with rest?\n",
      "Do you have any close family members who suffer from allergies (any type), hay fever or eczema?\n",
      "Do you have any family members who have asthma?\n",
      "Is your nose or the back of your throat itchy?\n",
      "Do you have severe itching in one or both eyes?\n",
      "Do you live in in a big city?\n",
      "Have you noticed a high pitched sound when breathing in?\n",
      "Have any of your family members been diagnosed with cluster headaches?\n",
      "Do you take medication that dilates your blood vessels?\n",
      "Do you have a known severe food allergy?\n",
      "Have you been in contact with or ate something that you have an allergy to?\n",
      "Do you have swelling in one or more areas of your body?\n",
      "Where is the swelling located?\n",
      "Did you lose consciousness?\n",
      "Have you been coughing up blood?\n",
      "Have you ever had a spontaneous pneumothorax?\n",
      "Do you have pain that is increased when you breathe in deeply?\n",
      "Do you feel that your eyes produce excessive tears?\n",
      "Did you previously, or do you currently, have any weakness/paralysis in one or more of your limbs or in your face?\n",
      "Have you ever had fluid in your lungs?\n",
      "Are your symptoms worse when lying down and alleviated while sitting up?\n",
      "Are you infected with the human immunodeficiency virus (HIV)?\n",
      "Do you take corticosteroids?\n",
      "Are you currently using intravenous drugs?\n",
      "Are there any members of your family who have been diagnosed myasthenia gravis?\n",
      "Do you have the perception of seeing two images of a single object seen overlapping or adjacent to each other (double vision)?\n",
      "Do you feel weakness in both arms and/or both legs?\n",
      "Do your symptoms of muscle weakness increase with fatigue and/or stress?\n",
      "Do you have a hard time opening/raising one or both eyelids?\n",
      "Do you feel anxious?\n",
      "Do you suffer from chronic anxiety?\n",
      "Have you ever had a migraine or is a member of your family known to have migraines?\n",
      "Do you suffer from fibromyalgia?\n",
      "Have you recently had numbness, loss of sensation or tingling, in both arms and legs and around your mouth?\n",
      "Do you currently, or did you ever, have numbness, loss of sensitivity or tingling anywhere on your body?\n",
      "Have you ever had a head trauma?\n",
      "Do you feel like you are (or were) choking or suffocating?\n",
      "Have you ever been diagnosed with depression?\n",
      "Do you feel like you are dying or were you afraid that you were about do die?\n",
      "Do you feel like you are detached from your own body or your surroundings?\n",
      "Did your cheeks suddenly turn red?\n",
      "Did you eat dark-fleshed fish (such as tuna) or Swiss cheese before the reaction occurred?\n",
      "Do you have pain that improves when you lean forward?\n",
      "Do you regularly take stimulant drugs?\n",
      "Do you have difficulty swallowing, or have a feeling of discomfort/blockage when swallowing?\n",
      "Have you noticed that you produce more saliva than usual?\n",
      "Are your vaccinations up to date?\n",
      "Have you been able to pass stools or gas since your symptoms increased?\n",
      "Were you born prematurely or did you suffer any complication at birth?\n",
      "Do you have intense coughing fits?\n",
      "Are the symptoms or pain increased with coughing, with an effort like lifting a weight or from forcing a bowel movement?\n",
      "Have you vomited several times or have you made several efforts to vomit?\n",
      "Do you have chronic pancreatitis?\n",
      "Do you constantly feel fatigued or do you have non-restful sleep?\n",
      "Do you have pale stools and dark urine?\n",
      "Are there members of your family who have been diagnosed with pancreatic cancer?\n",
      "Have you ever had a pericarditis?\n",
      "Are you consulting because you have high blood pressure?\n",
      "Do you have painful mouth ulcers or sores?\n",
      "Have you noticed that the tone of your voice has become deeper, softer or hoarse?\n",
      "Do you find that your symptoms have worsened over the last 2 weeks and that progressively less effort is required to cause the symptoms?\n",
      "Do you have chest pain even at rest?\n",
      "Do you have close family members who had a cardiovascular disease problem before the age of 50?\n",
      "Do you have Rheumatoid Arthritis?\n",
      "Do you suffer from Crohn’s disease or ulcerative colitis (UC)?\n",
      "Do you have a problem with poor circulation?\n",
      "Have you recently had a loss of appetite or do you get full more quickly then usually?\n",
      "Are you a former smoker?\n",
      "Have you been unintentionally losing weight or have you lost your appetite?\n",
      "Do you think you are pregnant or are you currently pregnant?\n",
      "Are you currently taking or have you recently taken anti-inflammatory drugs (NSAIDs)?\n",
      "Have you ever had deep vein thrombosis (DVT)?\n",
      "Have you ever had surgery to remove lymph nodes?\n",
      "Do you have a known kidney problem resulting in an inability to retain proteins?\n",
      "Have you lost consciousness associated with violent and sustained muscle contractions or had an absence episode?\n",
      "Have you noticed a diffuse (widespread) redness in one or both eyes?\n",
      "Do you work in agriculture?\n",
      "Are you being treated for osteoporosis?\n",
      "Do you have pain that is increased with movement?\n",
      "Have any of your family members ever had a pneumothorax?\n",
      "Have you noticed a wheezing sound when you exhale?\n",
      "Have you gained weight recently?\n",
      "Do you have liver cirrhosis?\n",
      "Were you diagnosed with endocrine disease or a hormone dysfunction?\n",
      "Do you have any family members who have been diagnosed with anemia?\n",
      "Have you noticed light red blood or blood clots in your stool?\n",
      "Do you have Parkinson’s disease?\n",
      "Do you have a hiatal hernia?\n",
      "Do you have a burning sensation that starts in your stomach then goes up into your throat, and can be associated with a bitter taste in your mouth?\n",
      "Do you have symptoms that get worse after eating?\n",
      "Do you have pain or weakness in your jaw?\n",
      "Do you have difficulty articulating words/speaking?\n",
      "Have you been hospitalized for an asthma attack in the past year?\n",
      "Have you been diagnosed with chronic sinusitis?\n",
      "Have you had one or several flare ups of chronic obstructive pulmonary disease (COPD) in the past year?\n",
      "Do you work in construction?\n",
      "Have you had 2 or more asthma attacks in the past year?\n",
      "Have you recently had a viral infection?\n",
      "Have you noticed weakness in your facial muscles and/or eyes?\n",
      "Do you have numbness, loss of sensation or tingling in the feet?\n",
      "Do you have high cholesterol or do you take medications to treat high cholesterol?\n",
      "Do you have very abundant or very long menstruation periods?\n",
      "Do you have an active cancer?\n",
      "Have you been unable to move or get up for more than 3 consecutive days within the last 4 weeks?\n",
      "Have you had surgery within the last month?\n",
      "Are your symptoms more prominent at night?\n",
      "Have you ever been diagnosed with obstructive sleep apnea (OSA)?\n",
      "Have you recently thrown up blood or something resembling coffee beans?\n",
      "Have you been in contact with someone who has had pertussis (whoooping cough)?\n",
      "Did you vomit after coughing?\n",
      "Do you feel your heart is beating very irregularly or in a disorganized pattern?\n",
      "Do you exercise regularly, 4 times per week or more?\n",
      "Have you started or taken any antipsychotic medication within the last 7 days?\n",
      "Have you ever felt like you were suffocating for a very short time associated with inability to breathe or speak?\n",
      "Have you been treated in hospital recently for nausea, agitation, intoxication or aggressive behavior and received medication via an intravenous or intramuscular route?\n",
      "Are you unable to control the direction of your eyes?\n",
      "Do you feel that muscle spasms or soreness in your neck are keeping you from turning your head to one side?\n",
      "Do you have annoying muscle spasms in your face, neck or any other part of your body?\n",
      "Do you suddenly have difficulty or an inability to open your mouth or have jaw pain when opening it?\n",
      "Do you feel your abdomen is bloated or distended (swollen due to pressure from inside)?\n",
      "Do you currently undergo dialysis?\n",
      "Do you have bouts of choking or shortness of breath that wake you up at night?\n",
      "Do you have family members who have had lung cancer?\n",
      "Do you have trouble keeping your tongue in your mouth?\n",
      "Are you currently being treated or have you recently been treated with an oral antibiotic for an ear infection?\n",
      "Have you had weakness or paralysis on one side of the face, which may still be present or completely resolved?\n",
      "Do you regularly drink coffee or tea?\n",
      "Have you recently taken decongestants or other substances that may have stimulant effects?\n",
      "Do you have metastatic cancer?\n",
      "Are you more irritable or has your mood been very unstable recently?\n",
      "Do you take a calcium channel blockers (medication)?\n",
      "Have you had any vaginal discharge?\n",
      "Do you have cystic fibrosis?\n",
      "Do you currently take hormones?\n",
      "Do you wheeze while inhaling or is your breathing noisy after coughing spells?\n",
      "Do you feel out of breath with minimal physical effort?\n",
      "Do any members of your immediate family have a psychiatric illness?\n",
      "Have you ever had a stroke?\n",
      "Do you consume energy drinks regularly?\n",
      "Does the person have a whooping cough?\n",
      "Have you or any member of your family ever had croup?\n",
      "Do you work in the mining sector?\n",
      "Did you have your first menstrual period before the age of 12?\n",
      "Have you breastfed one of your children for more than 9 months?\n",
      "Have you felt confused or disorientated lately?\n",
      "In the last month, have you been in contact with anyone infected with the Ebola virus?\n",
      "Have you noticed any unusual bleeding or bruising related to your consultation today?\n",
      "Do you live in the suburbs?\n",
      "Do you ever temporarily stop breathing while you’re asleep?\n",
      "Do you have a decrease in appetite?\n",
      "Does your mother suffer from asthma?\n",
      "Do you live in a rural area?\n",
      "Are you of Asian descent?\n"
     ]
    }
   ],
   "source": [
    "print(f\"number of columns is  => {len(df_train_final.columns)}\")\n",
    "for col in df_train_final.columns:\n",
    "    print(col)"
   ]
  },
  {
   "cell_type": "code",
   "execution_count": 17,
   "id": "7c9babcf",
   "metadata": {
    "execution": {
     "iopub.execute_input": "2025-05-16T21:03:58.151493Z",
     "iopub.status.busy": "2025-05-16T21:03:58.151182Z",
     "iopub.status.idle": "2025-05-16T21:03:58.176775Z",
     "shell.execute_reply": "2025-05-16T21:03:58.175909Z"
    },
    "papermill": {
     "duration": 0.03581,
     "end_time": "2025-05-16T21:03:58.178329",
     "exception": false,
     "start_time": "2025-05-16T21:03:58.142519",
     "status": "completed"
    },
    "tags": []
   },
   "outputs": [
    {
     "data": {
      "text/html": [
       "<div>\n",
       "<style scoped>\n",
       "    .dataframe tbody tr th:only-of-type {\n",
       "        vertical-align: middle;\n",
       "    }\n",
       "\n",
       "    .dataframe tbody tr th {\n",
       "        vertical-align: top;\n",
       "    }\n",
       "\n",
       "    .dataframe thead th {\n",
       "        text-align: right;\n",
       "    }\n",
       "</style>\n",
       "<table border=\"1\" class=\"dataframe\">\n",
       "  <thead>\n",
       "    <tr style=\"text-align: right;\">\n",
       "      <th></th>\n",
       "      <th>AGE</th>\n",
       "      <th>SEX</th>\n",
       "      <th>Bronchitis</th>\n",
       "      <th>Pneumonia</th>\n",
       "      <th>URTI</th>\n",
       "      <th>Bronchiectasis</th>\n",
       "      <th>Tuberculosis</th>\n",
       "      <th>Influenza</th>\n",
       "      <th>HIV (initial infection)</th>\n",
       "      <th>Chagas</th>\n",
       "      <th>...</th>\n",
       "      <th>Have you breastfed one of your children for more than 9 months?</th>\n",
       "      <th>Have you felt confused or disorientated lately?</th>\n",
       "      <th>In the last month, have you been in contact with anyone infected with the Ebola virus?</th>\n",
       "      <th>Have you noticed any unusual bleeding or bruising related to your consultation today?</th>\n",
       "      <th>Do you live in the suburbs?</th>\n",
       "      <th>Do you ever temporarily stop breathing while you’re asleep?</th>\n",
       "      <th>Do you have a decrease in appetite?</th>\n",
       "      <th>Does your mother suffer from asthma?</th>\n",
       "      <th>Do you live in a rural area?</th>\n",
       "      <th>Are you of Asian descent?</th>\n",
       "    </tr>\n",
       "  </thead>\n",
       "  <tbody>\n",
       "    <tr>\n",
       "      <th>0</th>\n",
       "      <td>18</td>\n",
       "      <td>M</td>\n",
       "      <td>0.191712</td>\n",
       "      <td>0.175793</td>\n",
       "      <td>0.160781</td>\n",
       "      <td>0.124290</td>\n",
       "      <td>0.113672</td>\n",
       "      <td>0.110579</td>\n",
       "      <td>0.07333</td>\n",
       "      <td>0.049842</td>\n",
       "      <td>...</td>\n",
       "      <td>unknown</td>\n",
       "      <td>unknown</td>\n",
       "      <td>unknown</td>\n",
       "      <td>unknown</td>\n",
       "      <td>unknown</td>\n",
       "      <td>unknown</td>\n",
       "      <td>unknown</td>\n",
       "      <td>unknown</td>\n",
       "      <td>unknown</td>\n",
       "      <td>unknown</td>\n",
       "    </tr>\n",
       "    <tr>\n",
       "      <th>1</th>\n",
       "      <td>21</td>\n",
       "      <td>M</td>\n",
       "      <td>0.000000</td>\n",
       "      <td>0.000000</td>\n",
       "      <td>0.000000</td>\n",
       "      <td>0.000000</td>\n",
       "      <td>0.000000</td>\n",
       "      <td>0.000000</td>\n",
       "      <td>0.51895</td>\n",
       "      <td>0.321782</td>\n",
       "      <td>...</td>\n",
       "      <td>unknown</td>\n",
       "      <td>unknown</td>\n",
       "      <td>unknown</td>\n",
       "      <td>unknown</td>\n",
       "      <td>unknown</td>\n",
       "      <td>unknown</td>\n",
       "      <td>unknown</td>\n",
       "      <td>unknown</td>\n",
       "      <td>unknown</td>\n",
       "      <td>unknown</td>\n",
       "    </tr>\n",
       "    <tr>\n",
       "      <th>2</th>\n",
       "      <td>19</td>\n",
       "      <td>F</td>\n",
       "      <td>0.112781</td>\n",
       "      <td>0.100481</td>\n",
       "      <td>0.067060</td>\n",
       "      <td>0.077642</td>\n",
       "      <td>0.000000</td>\n",
       "      <td>0.000000</td>\n",
       "      <td>0.00000</td>\n",
       "      <td>0.029234</td>\n",
       "      <td>...</td>\n",
       "      <td>unknown</td>\n",
       "      <td>unknown</td>\n",
       "      <td>unknown</td>\n",
       "      <td>unknown</td>\n",
       "      <td>unknown</td>\n",
       "      <td>unknown</td>\n",
       "      <td>unknown</td>\n",
       "      <td>unknown</td>\n",
       "      <td>unknown</td>\n",
       "      <td>unknown</td>\n",
       "    </tr>\n",
       "    <tr>\n",
       "      <th>3</th>\n",
       "      <td>34</td>\n",
       "      <td>F</td>\n",
       "      <td>0.177347</td>\n",
       "      <td>0.000000</td>\n",
       "      <td>0.238594</td>\n",
       "      <td>0.000000</td>\n",
       "      <td>0.000000</td>\n",
       "      <td>0.000000</td>\n",
       "      <td>0.00000</td>\n",
       "      <td>0.070650</td>\n",
       "      <td>...</td>\n",
       "      <td>unknown</td>\n",
       "      <td>unknown</td>\n",
       "      <td>unknown</td>\n",
       "      <td>unknown</td>\n",
       "      <td>unknown</td>\n",
       "      <td>unknown</td>\n",
       "      <td>unknown</td>\n",
       "      <td>unknown</td>\n",
       "      <td>unknown</td>\n",
       "      <td>unknown</td>\n",
       "    </tr>\n",
       "    <tr>\n",
       "      <th>4</th>\n",
       "      <td>36</td>\n",
       "      <td>M</td>\n",
       "      <td>0.165121</td>\n",
       "      <td>0.000000</td>\n",
       "      <td>0.236778</td>\n",
       "      <td>0.000000</td>\n",
       "      <td>0.000000</td>\n",
       "      <td>0.184201</td>\n",
       "      <td>0.00000</td>\n",
       "      <td>0.065779</td>\n",
       "      <td>...</td>\n",
       "      <td>unknown</td>\n",
       "      <td>unknown</td>\n",
       "      <td>unknown</td>\n",
       "      <td>unknown</td>\n",
       "      <td>unknown</td>\n",
       "      <td>unknown</td>\n",
       "      <td>unknown</td>\n",
       "      <td>unknown</td>\n",
       "      <td>unknown</td>\n",
       "      <td>unknown</td>\n",
       "    </tr>\n",
       "  </tbody>\n",
       "</table>\n",
       "<p>5 rows × 274 columns</p>\n",
       "</div>"
      ],
      "text/plain": [
       "   AGE SEX  Bronchitis  Pneumonia      URTI  Bronchiectasis  Tuberculosis  \\\n",
       "0   18   M    0.191712   0.175793  0.160781        0.124290      0.113672   \n",
       "1   21   M    0.000000   0.000000  0.000000        0.000000      0.000000   \n",
       "2   19   F    0.112781   0.100481  0.067060        0.077642      0.000000   \n",
       "3   34   F    0.177347   0.000000  0.238594        0.000000      0.000000   \n",
       "4   36   M    0.165121   0.000000  0.236778        0.000000      0.000000   \n",
       "\n",
       "   Influenza  HIV (initial infection)    Chagas  ...  \\\n",
       "0   0.110579                  0.07333  0.049842  ...   \n",
       "1   0.000000                  0.51895  0.321782  ...   \n",
       "2   0.000000                  0.00000  0.029234  ...   \n",
       "3   0.000000                  0.00000  0.070650  ...   \n",
       "4   0.184201                  0.00000  0.065779  ...   \n",
       "\n",
       "   Have you breastfed one of your children for more than 9 months?  \\\n",
       "0                                            unknown                 \n",
       "1                                            unknown                 \n",
       "2                                            unknown                 \n",
       "3                                            unknown                 \n",
       "4                                            unknown                 \n",
       "\n",
       "   Have you felt confused or disorientated lately?  \\\n",
       "0                                          unknown   \n",
       "1                                          unknown   \n",
       "2                                          unknown   \n",
       "3                                          unknown   \n",
       "4                                          unknown   \n",
       "\n",
       "   In the last month, have you been in contact with anyone infected with the Ebola virus?  \\\n",
       "0                                            unknown                                        \n",
       "1                                            unknown                                        \n",
       "2                                            unknown                                        \n",
       "3                                            unknown                                        \n",
       "4                                            unknown                                        \n",
       "\n",
       "   Have you noticed any unusual bleeding or bruising related to your consultation today?  \\\n",
       "0                                            unknown                                       \n",
       "1                                            unknown                                       \n",
       "2                                            unknown                                       \n",
       "3                                            unknown                                       \n",
       "4                                            unknown                                       \n",
       "\n",
       "   Do you live in the suburbs?  \\\n",
       "0                      unknown   \n",
       "1                      unknown   \n",
       "2                      unknown   \n",
       "3                      unknown   \n",
       "4                      unknown   \n",
       "\n",
       "   Do you ever temporarily stop breathing while you’re asleep?  \\\n",
       "0                                            unknown             \n",
       "1                                            unknown             \n",
       "2                                            unknown             \n",
       "3                                            unknown             \n",
       "4                                            unknown             \n",
       "\n",
       "   Do you have a decrease in appetite?  Does your mother suffer from asthma?  \\\n",
       "0                              unknown                               unknown   \n",
       "1                              unknown                               unknown   \n",
       "2                              unknown                               unknown   \n",
       "3                              unknown                               unknown   \n",
       "4                              unknown                               unknown   \n",
       "\n",
       "   Do you live in a rural area?  Are you of Asian descent?  \n",
       "0                       unknown                    unknown  \n",
       "1                       unknown                    unknown  \n",
       "2                       unknown                    unknown  \n",
       "3                       unknown                    unknown  \n",
       "4                       unknown                    unknown  \n",
       "\n",
       "[5 rows x 274 columns]"
      ]
     },
     "execution_count": 17,
     "metadata": {},
     "output_type": "execute_result"
    }
   ],
   "source": [
    "df_train_final.head()\n"
   ]
  },
  {
   "cell_type": "code",
   "execution_count": 18,
   "id": "eb47cd8b",
   "metadata": {
    "execution": {
     "iopub.execute_input": "2025-05-16T21:03:58.195622Z",
     "iopub.status.busy": "2025-05-16T21:03:58.195280Z",
     "iopub.status.idle": "2025-05-16T21:04:06.683542Z",
     "shell.execute_reply": "2025-05-16T21:04:06.682376Z"
    },
    "papermill": {
     "duration": 8.498809,
     "end_time": "2025-05-16T21:04:06.685323",
     "exception": false,
     "start_time": "2025-05-16T21:03:58.186514",
     "status": "completed"
    },
    "tags": []
   },
   "outputs": [
    {
     "name": "stdout",
     "output_type": "stream",
     "text": [
      "<class 'pandas.core.frame.DataFrame'>\n",
      "RangeIndex: 1292579 entries, 0 to 1292578\n",
      "Columns: 274 entries, AGE to Are you of Asian descent?\n",
      "dtypes: float64(49), int64(1), object(224)\n",
      "memory usage: 2.6+ GB\n"
     ]
    }
   ],
   "source": [
    "df = pd.concat([df_train_final, df_val_final, df_test_final], ignore_index=True)\n",
    "df.info()"
   ]
  },
  {
   "cell_type": "code",
   "execution_count": 19,
   "id": "45312a53",
   "metadata": {
    "execution": {
     "iopub.execute_input": "2025-05-16T21:04:06.703622Z",
     "iopub.status.busy": "2025-05-16T21:04:06.702848Z",
     "iopub.status.idle": "2025-05-16T21:04:22.730206Z",
     "shell.execute_reply": "2025-05-16T21:04:22.729158Z"
    },
    "papermill": {
     "duration": 16.038276,
     "end_time": "2025-05-16T21:04:22.732021",
     "exception": false,
     "start_time": "2025-05-16T21:04:06.693745",
     "status": "completed"
    },
    "tags": []
   },
   "outputs": [
    {
     "data": {
      "text/plain": [
       "0"
      ]
     },
     "execution_count": 19,
     "metadata": {},
     "output_type": "execute_result"
    }
   ],
   "source": [
    "df.isna().sum().sum()"
   ]
  },
  {
   "cell_type": "code",
   "execution_count": 20,
   "id": "b1ddcc4d",
   "metadata": {
    "execution": {
     "iopub.execute_input": "2025-05-16T21:04:22.750299Z",
     "iopub.status.busy": "2025-05-16T21:04:22.749832Z",
     "iopub.status.idle": "2025-05-16T21:04:51.062717Z",
     "shell.execute_reply": "2025-05-16T21:04:51.061632Z"
    },
    "papermill": {
     "duration": 28.324181,
     "end_time": "2025-05-16T21:04:51.064664",
     "exception": false,
     "start_time": "2025-05-16T21:04:22.740483",
     "status": "completed"
    },
    "tags": []
   },
   "outputs": [
    {
     "data": {
      "text/plain": [
       "211698"
      ]
     },
     "execution_count": 20,
     "metadata": {},
     "output_type": "execute_result"
    }
   ],
   "source": [
    "df.duplicated().sum()"
   ]
  },
  {
   "cell_type": "code",
   "execution_count": 21,
   "id": "0a99fb7a",
   "metadata": {
    "execution": {
     "iopub.execute_input": "2025-05-16T21:04:51.084472Z",
     "iopub.status.busy": "2025-05-16T21:04:51.084140Z",
     "iopub.status.idle": "2025-05-16T21:05:16.420666Z",
     "shell.execute_reply": "2025-05-16T21:05:16.419446Z"
    },
    "papermill": {
     "duration": 25.348165,
     "end_time": "2025-05-16T21:05:16.422784",
     "exception": false,
     "start_time": "2025-05-16T21:04:51.074619",
     "status": "completed"
    },
    "tags": []
   },
   "outputs": [],
   "source": [
    "df = df.drop_duplicates()"
   ]
  },
  {
   "cell_type": "code",
   "execution_count": 22,
   "id": "24658e63",
   "metadata": {
    "execution": {
     "iopub.execute_input": "2025-05-16T21:05:16.441301Z",
     "iopub.status.busy": "2025-05-16T21:05:16.440915Z",
     "iopub.status.idle": "2025-05-16T21:05:31.994196Z",
     "shell.execute_reply": "2025-05-16T21:05:31.993302Z"
    },
    "papermill": {
     "duration": 15.564196,
     "end_time": "2025-05-16T21:05:31.995869",
     "exception": false,
     "start_time": "2025-05-16T21:05:16.431673",
     "status": "completed"
    },
    "tags": []
   },
   "outputs": [
    {
     "data": {
      "text/plain": [
       "0"
      ]
     },
     "execution_count": 22,
     "metadata": {},
     "output_type": "execute_result"
    }
   ],
   "source": [
    "df.duplicated().sum()"
   ]
  },
  {
   "cell_type": "code",
   "execution_count": 23,
   "id": "947bda55",
   "metadata": {
    "execution": {
     "iopub.execute_input": "2025-05-16T21:05:32.014306Z",
     "iopub.status.busy": "2025-05-16T21:05:32.013939Z",
     "iopub.status.idle": "2025-05-16T21:05:47.563883Z",
     "shell.execute_reply": "2025-05-16T21:05:47.562909Z"
    },
    "papermill": {
     "duration": 15.560986,
     "end_time": "2025-05-16T21:05:47.565589",
     "exception": false,
     "start_time": "2025-05-16T21:05:32.004603",
     "status": "completed"
    },
    "tags": []
   },
   "outputs": [
    {
     "data": {
      "text/plain": [
       "0"
      ]
     },
     "execution_count": 23,
     "metadata": {},
     "output_type": "execute_result"
    }
   ],
   "source": [
    "df.duplicated().sum()"
   ]
  },
  {
   "cell_type": "code",
   "execution_count": 24,
   "id": "760f0799",
   "metadata": {
    "execution": {
     "iopub.execute_input": "2025-05-16T21:05:47.584077Z",
     "iopub.status.busy": "2025-05-16T21:05:47.583747Z",
     "iopub.status.idle": "2025-05-16T21:06:44.302848Z",
     "shell.execute_reply": "2025-05-16T21:06:44.301513Z"
    },
    "papermill": {
     "duration": 56.730488,
     "end_time": "2025-05-16T21:06:44.304822",
     "exception": false,
     "start_time": "2025-05-16T21:05:47.574334",
     "status": "completed"
    },
    "tags": []
   },
   "outputs": [],
   "source": [
    "cat_cols = df.select_dtypes(include=['object']).columns\n",
    "for cols in cat_cols :\n",
    "    le = LabelEncoder()\n",
    "    df[cols]= le.fit_transform(df[cols])\n"
   ]
  },
  {
   "cell_type": "code",
   "execution_count": 25,
   "id": "265fa722",
   "metadata": {
    "execution": {
     "iopub.execute_input": "2025-05-16T21:06:44.324916Z",
     "iopub.status.busy": "2025-05-16T21:06:44.323891Z",
     "iopub.status.idle": "2025-05-16T21:06:44.346300Z",
     "shell.execute_reply": "2025-05-16T21:06:44.345357Z"
    },
    "papermill": {
     "duration": 0.034143,
     "end_time": "2025-05-16T21:06:44.348088",
     "exception": false,
     "start_time": "2025-05-16T21:06:44.313945",
     "status": "completed"
    },
    "tags": []
   },
   "outputs": [
    {
     "data": {
      "text/html": [
       "<div>\n",
       "<style scoped>\n",
       "    .dataframe tbody tr th:only-of-type {\n",
       "        vertical-align: middle;\n",
       "    }\n",
       "\n",
       "    .dataframe tbody tr th {\n",
       "        vertical-align: top;\n",
       "    }\n",
       "\n",
       "    .dataframe thead th {\n",
       "        text-align: right;\n",
       "    }\n",
       "</style>\n",
       "<table border=\"1\" class=\"dataframe\">\n",
       "  <thead>\n",
       "    <tr style=\"text-align: right;\">\n",
       "      <th></th>\n",
       "      <th>AGE</th>\n",
       "      <th>SEX</th>\n",
       "      <th>Bronchitis</th>\n",
       "      <th>Pneumonia</th>\n",
       "      <th>URTI</th>\n",
       "      <th>Bronchiectasis</th>\n",
       "      <th>Tuberculosis</th>\n",
       "      <th>Influenza</th>\n",
       "      <th>HIV (initial infection)</th>\n",
       "      <th>Chagas</th>\n",
       "      <th>...</th>\n",
       "      <th>Have you breastfed one of your children for more than 9 months?</th>\n",
       "      <th>Have you felt confused or disorientated lately?</th>\n",
       "      <th>In the last month, have you been in contact with anyone infected with the Ebola virus?</th>\n",
       "      <th>Have you noticed any unusual bleeding or bruising related to your consultation today?</th>\n",
       "      <th>Do you live in the suburbs?</th>\n",
       "      <th>Do you ever temporarily stop breathing while you’re asleep?</th>\n",
       "      <th>Do you have a decrease in appetite?</th>\n",
       "      <th>Does your mother suffer from asthma?</th>\n",
       "      <th>Do you live in a rural area?</th>\n",
       "      <th>Are you of Asian descent?</th>\n",
       "    </tr>\n",
       "  </thead>\n",
       "  <tbody>\n",
       "    <tr>\n",
       "      <th>0</th>\n",
       "      <td>18</td>\n",
       "      <td>1</td>\n",
       "      <td>0.191712</td>\n",
       "      <td>0.175793</td>\n",
       "      <td>0.160781</td>\n",
       "      <td>0.124290</td>\n",
       "      <td>0.113672</td>\n",
       "      <td>0.110579</td>\n",
       "      <td>0.07333</td>\n",
       "      <td>0.049842</td>\n",
       "      <td>...</td>\n",
       "      <td>0</td>\n",
       "      <td>0</td>\n",
       "      <td>0</td>\n",
       "      <td>0</td>\n",
       "      <td>0</td>\n",
       "      <td>0</td>\n",
       "      <td>0</td>\n",
       "      <td>0</td>\n",
       "      <td>0</td>\n",
       "      <td>0</td>\n",
       "    </tr>\n",
       "    <tr>\n",
       "      <th>1</th>\n",
       "      <td>21</td>\n",
       "      <td>1</td>\n",
       "      <td>0.000000</td>\n",
       "      <td>0.000000</td>\n",
       "      <td>0.000000</td>\n",
       "      <td>0.000000</td>\n",
       "      <td>0.000000</td>\n",
       "      <td>0.000000</td>\n",
       "      <td>0.51895</td>\n",
       "      <td>0.321782</td>\n",
       "      <td>...</td>\n",
       "      <td>0</td>\n",
       "      <td>0</td>\n",
       "      <td>0</td>\n",
       "      <td>0</td>\n",
       "      <td>0</td>\n",
       "      <td>0</td>\n",
       "      <td>0</td>\n",
       "      <td>0</td>\n",
       "      <td>0</td>\n",
       "      <td>0</td>\n",
       "    </tr>\n",
       "    <tr>\n",
       "      <th>2</th>\n",
       "      <td>19</td>\n",
       "      <td>0</td>\n",
       "      <td>0.112781</td>\n",
       "      <td>0.100481</td>\n",
       "      <td>0.067060</td>\n",
       "      <td>0.077642</td>\n",
       "      <td>0.000000</td>\n",
       "      <td>0.000000</td>\n",
       "      <td>0.00000</td>\n",
       "      <td>0.029234</td>\n",
       "      <td>...</td>\n",
       "      <td>0</td>\n",
       "      <td>0</td>\n",
       "      <td>0</td>\n",
       "      <td>0</td>\n",
       "      <td>0</td>\n",
       "      <td>0</td>\n",
       "      <td>0</td>\n",
       "      <td>0</td>\n",
       "      <td>0</td>\n",
       "      <td>0</td>\n",
       "    </tr>\n",
       "    <tr>\n",
       "      <th>3</th>\n",
       "      <td>34</td>\n",
       "      <td>0</td>\n",
       "      <td>0.177347</td>\n",
       "      <td>0.000000</td>\n",
       "      <td>0.238594</td>\n",
       "      <td>0.000000</td>\n",
       "      <td>0.000000</td>\n",
       "      <td>0.000000</td>\n",
       "      <td>0.00000</td>\n",
       "      <td>0.070650</td>\n",
       "      <td>...</td>\n",
       "      <td>0</td>\n",
       "      <td>0</td>\n",
       "      <td>0</td>\n",
       "      <td>0</td>\n",
       "      <td>0</td>\n",
       "      <td>0</td>\n",
       "      <td>0</td>\n",
       "      <td>0</td>\n",
       "      <td>0</td>\n",
       "      <td>0</td>\n",
       "    </tr>\n",
       "    <tr>\n",
       "      <th>4</th>\n",
       "      <td>36</td>\n",
       "      <td>1</td>\n",
       "      <td>0.165121</td>\n",
       "      <td>0.000000</td>\n",
       "      <td>0.236778</td>\n",
       "      <td>0.000000</td>\n",
       "      <td>0.000000</td>\n",
       "      <td>0.184201</td>\n",
       "      <td>0.00000</td>\n",
       "      <td>0.065779</td>\n",
       "      <td>...</td>\n",
       "      <td>0</td>\n",
       "      <td>0</td>\n",
       "      <td>0</td>\n",
       "      <td>0</td>\n",
       "      <td>0</td>\n",
       "      <td>0</td>\n",
       "      <td>0</td>\n",
       "      <td>0</td>\n",
       "      <td>0</td>\n",
       "      <td>0</td>\n",
       "    </tr>\n",
       "  </tbody>\n",
       "</table>\n",
       "<p>5 rows × 274 columns</p>\n",
       "</div>"
      ],
      "text/plain": [
       "   AGE  SEX  Bronchitis  Pneumonia      URTI  Bronchiectasis  Tuberculosis  \\\n",
       "0   18    1    0.191712   0.175793  0.160781        0.124290      0.113672   \n",
       "1   21    1    0.000000   0.000000  0.000000        0.000000      0.000000   \n",
       "2   19    0    0.112781   0.100481  0.067060        0.077642      0.000000   \n",
       "3   34    0    0.177347   0.000000  0.238594        0.000000      0.000000   \n",
       "4   36    1    0.165121   0.000000  0.236778        0.000000      0.000000   \n",
       "\n",
       "   Influenza  HIV (initial infection)    Chagas  ...  \\\n",
       "0   0.110579                  0.07333  0.049842  ...   \n",
       "1   0.000000                  0.51895  0.321782  ...   \n",
       "2   0.000000                  0.00000  0.029234  ...   \n",
       "3   0.000000                  0.00000  0.070650  ...   \n",
       "4   0.184201                  0.00000  0.065779  ...   \n",
       "\n",
       "   Have you breastfed one of your children for more than 9 months?  \\\n",
       "0                                                  0                 \n",
       "1                                                  0                 \n",
       "2                                                  0                 \n",
       "3                                                  0                 \n",
       "4                                                  0                 \n",
       "\n",
       "   Have you felt confused or disorientated lately?  \\\n",
       "0                                                0   \n",
       "1                                                0   \n",
       "2                                                0   \n",
       "3                                                0   \n",
       "4                                                0   \n",
       "\n",
       "   In the last month, have you been in contact with anyone infected with the Ebola virus?  \\\n",
       "0                                                  0                                        \n",
       "1                                                  0                                        \n",
       "2                                                  0                                        \n",
       "3                                                  0                                        \n",
       "4                                                  0                                        \n",
       "\n",
       "   Have you noticed any unusual bleeding or bruising related to your consultation today?  \\\n",
       "0                                                  0                                       \n",
       "1                                                  0                                       \n",
       "2                                                  0                                       \n",
       "3                                                  0                                       \n",
       "4                                                  0                                       \n",
       "\n",
       "   Do you live in the suburbs?  \\\n",
       "0                            0   \n",
       "1                            0   \n",
       "2                            0   \n",
       "3                            0   \n",
       "4                            0   \n",
       "\n",
       "   Do you ever temporarily stop breathing while you’re asleep?  \\\n",
       "0                                                  0             \n",
       "1                                                  0             \n",
       "2                                                  0             \n",
       "3                                                  0             \n",
       "4                                                  0             \n",
       "\n",
       "   Do you have a decrease in appetite?  Does your mother suffer from asthma?  \\\n",
       "0                                    0                                     0   \n",
       "1                                    0                                     0   \n",
       "2                                    0                                     0   \n",
       "3                                    0                                     0   \n",
       "4                                    0                                     0   \n",
       "\n",
       "   Do you live in a rural area?  Are you of Asian descent?  \n",
       "0                             0                          0  \n",
       "1                             0                          0  \n",
       "2                             0                          0  \n",
       "3                             0                          0  \n",
       "4                             0                          0  \n",
       "\n",
       "[5 rows x 274 columns]"
      ]
     },
     "execution_count": 25,
     "metadata": {},
     "output_type": "execute_result"
    }
   ],
   "source": [
    "df.head()"
   ]
  },
  {
   "cell_type": "code",
   "execution_count": 26,
   "id": "57eee234",
   "metadata": {
    "execution": {
     "iopub.execute_input": "2025-05-16T21:06:44.368594Z",
     "iopub.status.busy": "2025-05-16T21:06:44.367934Z",
     "iopub.status.idle": "2025-05-16T21:06:44.377323Z",
     "shell.execute_reply": "2025-05-16T21:06:44.376112Z"
    },
    "papermill": {
     "duration": 0.022513,
     "end_time": "2025-05-16T21:06:44.380243",
     "exception": false,
     "start_time": "2025-05-16T21:06:44.357730",
     "status": "completed"
    },
    "tags": []
   },
   "outputs": [
    {
     "name": "stdout",
     "output_type": "stream",
     "text": [
      "0 AGE\n",
      "1 SEX\n",
      "2 Bronchitis\n",
      "3 Pneumonia\n",
      "4 URTI\n",
      "5 Bronchiectasis\n",
      "6 Tuberculosis\n",
      "7 Influenza\n",
      "8 HIV (initial infection)\n",
      "9 Chagas\n",
      "10 Scombroid food poisoning\n",
      "11 Sarcoidosis\n",
      "12 Unstable angina\n",
      "13 Possible NSTEMI / STEMI\n",
      "14 Boerhaave\n",
      "15 Spontaneous rib fracture\n",
      "16 Pericarditis\n",
      "17 Stable angina\n",
      "18 GERD\n",
      "19 Panic attack\n",
      "20 Cluster headache\n",
      "21 Chronic rhinosinusitis\n",
      "22 Acute rhinosinusitis\n",
      "23 Anemia\n",
      "24 Acute laryngitis\n",
      "25 Viral pharyngitis\n",
      "26 Anaphylaxis\n",
      "27 PSVT\n",
      "28 Atrial fibrillation\n",
      "29 Acute pulmonary edema\n",
      "30 Guillain-Barré syndrome\n",
      "31 Myocarditis\n",
      "32 Acute dystonic reactions\n",
      "33 Myasthenia gravis\n",
      "34 SLE\n",
      "35 Allergic sinusitis\n",
      "36 Croup\n",
      "37 Larygospasm\n",
      "38 Pancreatic neoplasm\n",
      "39 Inguinal hernia\n",
      "40 Pulmonary embolism\n",
      "41 Spontaneous pneumothorax\n",
      "42 Pulmonary neoplasm\n",
      "43 Epiglottitis\n",
      "44 Whooping cough\n",
      "45 Bronchospasm / acute asthma exacerbation\n",
      "46 Localized edema\n",
      "47 Acute COPD exacerbation / infection\n",
      "48 Ebola\n",
      "49 Acute otitis media\n",
      "50 Bronchiolitis\n",
      "51 Do you live with 4 or more people?\n",
      "52 Have you had significantly increased sweating?\n",
      "53 Do you have pain somewhere, related to your reason for consulting?\n",
      "54 Characterize your pain:\n",
      "55 Do you feel pain somewhere?\n",
      "56 How intense is the pain?\n",
      "57 Does the pain radiate to another location?\n",
      "58 How precisely is the pain located?\n",
      "59 How fast did the pain appear?\n",
      "60 Do you have a cough that produces colored or more abundant sputum than usual?\n",
      "61 Do you smoke cigarettes?\n",
      "62 Do you have a fever (either felt or measured with a thermometer)?\n",
      "63 Do you have a sore throat?\n",
      "64 Do you have a cough?\n",
      "65 Have you traveled out of the country in the last 4 weeks?\n",
      "66 Are you exposed to secondhand cigarette smoke on a daily basis?\n",
      "67 Do you have swollen or painful lymph nodes?\n",
      "68 Have you ever had a sexually transmitted infection?\n",
      "69 Have you had diarrhea or an increase in stool frequency?\n",
      "70 Have you had unprotected sex with more than one partner in the last 6 months?\n",
      "71 Do you have any lesions, redness or problems on your skin that you believe are related to the condition you are consulting for?\n",
      "72 What color is the rash?\n",
      "73 Do your lesions peel off?\n",
      "74 Is the rash swollen?\n",
      "75 Where is the affected region located?\n",
      "76 How intense is the pain caused by the rash?\n",
      "77 Is the lesion (or are the lesions) larger than 1cm?\n",
      "78 How severe is the itching?\n",
      "79 Are you feeling nauseous or do you feel like vomiting?\n",
      "80 Have you had an involuntary weight loss over the last 3 months?\n",
      "81 Have you had sexual intercourse with an HIV-positive partner in the past 12 months?\n",
      "82 Do you drink alcohol excessively or do you have an addiction to alcohol?\n",
      "83 Have you had chills or shivers?\n",
      "84 Do you have heart failure?\n",
      "85 Have you ever had pneumonia?\n",
      "86 Do you have a chronic obstructive pulmonary disease (COPD)?\n",
      "87 Do you have asthma or have you ever had to use a bronchodilator in the past?\n",
      "88 Do you have diffuse (widespread) muscle pain?\n",
      "89 Have you noticed any new fatigue, generalized and vague discomfort, diffuse (widespread) muscle aches or a change in your general well-being related to your consultation today?\n",
      "90 Do you have nasal congestion or a clear runny nose?\n",
      "91 Do you attend or work in a daycare?\n",
      "92 Have you lost your sense of smell?\n",
      "93 Have you had a cold in the last 2 weeks?\n",
      "94 Do you have polyps in your nose?\n",
      "95 Do you have a deviated nasal septum?\n",
      "96 Have you ever been diagnosed with gastroesophageal reflux?\n",
      "97 Do you have greenish or yellowish nasal discharge?\n",
      "98 Are you more likely to develop common allergies than the general population?\n",
      "99 Have you been in contact with a person with similar symptoms in the past 2 weeks?\n",
      "100 Are you immunosuppressed?\n",
      "101 Do you have a poor diet?\n",
      "102 Have you ever had a diagnosis of anemia?\n",
      "103 Do you feel lightheaded and dizzy or do you feel like you are about to faint?\n",
      "104 Do you feel so tired that you are unable to do your usual activities or are you stuck in your bed all day long?\n",
      "105 Do you have chronic kidney failure?\n",
      "106 Have you recently had stools that were black (like coal)?\n",
      "107 Are you taking any new oral anticoagulants ((NOACs)?\n",
      "108 Is your skin much paler than usual?\n",
      "109 Is your BMI less than 18.5, or are you underweight?\n",
      "110 Have you been diagnosed with hyperthyroidism?\n",
      "111 Do you have a known issue with one of your heart valves?\n",
      "112 Do you have severe Chronic Obstructive Pulmonary Disease (COPD)?\n",
      "113 Are you experiencing shortness of breath or difficulty breathing in a significant way?\n",
      "114 Do you have diabetes?\n",
      "115 Are you significantly overweight compared to people of the same height as you?\n",
      "116 Do you feel slightly dizzy or lightheaded?\n",
      "117 Do you have high blood pressure or do you take medications to treat high blood pressure?\n",
      "118 Have you ever had a heart attack or do you have angina (chest pain)?\n",
      "119 Do you have a known heart defect?\n",
      "120 Do you feel your heart is beating fast (racing), irregularly (missing a beat) or do you feel palpitations?\n",
      "121 Do you have symptoms that are increased with physical exertion but alleviated with rest?\n",
      "122 Do you have any close family members who suffer from allergies (any type), hay fever or eczema?\n",
      "123 Do you have any family members who have asthma?\n",
      "124 Is your nose or the back of your throat itchy?\n",
      "125 Do you have severe itching in one or both eyes?\n",
      "126 Do you live in in a big city?\n",
      "127 Have you noticed a high pitched sound when breathing in?\n",
      "128 Have any of your family members been diagnosed with cluster headaches?\n",
      "129 Do you take medication that dilates your blood vessels?\n",
      "130 Do you have a known severe food allergy?\n",
      "131 Have you been in contact with or ate something that you have an allergy to?\n",
      "132 Do you have swelling in one or more areas of your body?\n",
      "133 Where is the swelling located?\n",
      "134 Did you lose consciousness?\n",
      "135 Have you been coughing up blood?\n",
      "136 Have you ever had a spontaneous pneumothorax?\n",
      "137 Do you have pain that is increased when you breathe in deeply?\n",
      "138 Do you feel that your eyes produce excessive tears?\n",
      "139 Did you previously, or do you currently, have any weakness/paralysis in one or more of your limbs or in your face?\n",
      "140 Have you ever had fluid in your lungs?\n",
      "141 Are your symptoms worse when lying down and alleviated while sitting up?\n",
      "142 Are you infected with the human immunodeficiency virus (HIV)?\n",
      "143 Do you take corticosteroids?\n",
      "144 Are you currently using intravenous drugs?\n",
      "145 Are there any members of your family who have been diagnosed myasthenia gravis?\n",
      "146 Do you have the perception of seeing two images of a single object seen overlapping or adjacent to each other (double vision)?\n",
      "147 Do you feel weakness in both arms and/or both legs?\n",
      "148 Do your symptoms of muscle weakness increase with fatigue and/or stress?\n",
      "149 Do you have a hard time opening/raising one or both eyelids?\n",
      "150 Do you feel anxious?\n",
      "151 Do you suffer from chronic anxiety?\n",
      "152 Have you ever had a migraine or is a member of your family known to have migraines?\n",
      "153 Do you suffer from fibromyalgia?\n",
      "154 Have you recently had numbness, loss of sensation or tingling, in both arms and legs and around your mouth?\n",
      "155 Do you currently, or did you ever, have numbness, loss of sensitivity or tingling anywhere on your body?\n",
      "156 Have you ever had a head trauma?\n",
      "157 Do you feel like you are (or were) choking or suffocating?\n",
      "158 Have you ever been diagnosed with depression?\n",
      "159 Do you feel like you are dying or were you afraid that you were about do die?\n",
      "160 Do you feel like you are detached from your own body or your surroundings?\n",
      "161 Did your cheeks suddenly turn red?\n",
      "162 Did you eat dark-fleshed fish (such as tuna) or Swiss cheese before the reaction occurred?\n",
      "163 Do you have pain that improves when you lean forward?\n",
      "164 Do you regularly take stimulant drugs?\n",
      "165 Do you have difficulty swallowing, or have a feeling of discomfort/blockage when swallowing?\n",
      "166 Have you noticed that you produce more saliva than usual?\n",
      "167 Are your vaccinations up to date?\n",
      "168 Have you been able to pass stools or gas since your symptoms increased?\n",
      "169 Were you born prematurely or did you suffer any complication at birth?\n",
      "170 Do you have intense coughing fits?\n",
      "171 Are the symptoms or pain increased with coughing, with an effort like lifting a weight or from forcing a bowel movement?\n",
      "172 Have you vomited several times or have you made several efforts to vomit?\n",
      "173 Do you have chronic pancreatitis?\n",
      "174 Do you constantly feel fatigued or do you have non-restful sleep?\n",
      "175 Do you have pale stools and dark urine?\n",
      "176 Are there members of your family who have been diagnosed with pancreatic cancer?\n",
      "177 Have you ever had a pericarditis?\n",
      "178 Are you consulting because you have high blood pressure?\n",
      "179 Do you have painful mouth ulcers or sores?\n",
      "180 Have you noticed that the tone of your voice has become deeper, softer or hoarse?\n",
      "181 Do you find that your symptoms have worsened over the last 2 weeks and that progressively less effort is required to cause the symptoms?\n",
      "182 Do you have chest pain even at rest?\n",
      "183 Do you have close family members who had a cardiovascular disease problem before the age of 50?\n",
      "184 Do you have Rheumatoid Arthritis?\n",
      "185 Do you suffer from Crohn’s disease or ulcerative colitis (UC)?\n",
      "186 Do you have a problem with poor circulation?\n",
      "187 Have you recently had a loss of appetite or do you get full more quickly then usually?\n",
      "188 Are you a former smoker?\n",
      "189 Have you been unintentionally losing weight or have you lost your appetite?\n",
      "190 Do you think you are pregnant or are you currently pregnant?\n",
      "191 Are you currently taking or have you recently taken anti-inflammatory drugs (NSAIDs)?\n",
      "192 Have you ever had deep vein thrombosis (DVT)?\n",
      "193 Have you ever had surgery to remove lymph nodes?\n",
      "194 Do you have a known kidney problem resulting in an inability to retain proteins?\n",
      "195 Have you lost consciousness associated with violent and sustained muscle contractions or had an absence episode?\n",
      "196 Have you noticed a diffuse (widespread) redness in one or both eyes?\n",
      "197 Do you work in agriculture?\n",
      "198 Are you being treated for osteoporosis?\n",
      "199 Do you have pain that is increased with movement?\n",
      "200 Have any of your family members ever had a pneumothorax?\n",
      "201 Have you noticed a wheezing sound when you exhale?\n",
      "202 Have you gained weight recently?\n",
      "203 Do you have liver cirrhosis?\n",
      "204 Were you diagnosed with endocrine disease or a hormone dysfunction?\n",
      "205 Do you have any family members who have been diagnosed with anemia?\n",
      "206 Have you noticed light red blood or blood clots in your stool?\n",
      "207 Do you have Parkinson’s disease?\n",
      "208 Do you have a hiatal hernia?\n",
      "209 Do you have a burning sensation that starts in your stomach then goes up into your throat, and can be associated with a bitter taste in your mouth?\n",
      "210 Do you have symptoms that get worse after eating?\n",
      "211 Do you have pain or weakness in your jaw?\n",
      "212 Do you have difficulty articulating words/speaking?\n",
      "213 Have you been hospitalized for an asthma attack in the past year?\n",
      "214 Have you been diagnosed with chronic sinusitis?\n",
      "215 Have you had one or several flare ups of chronic obstructive pulmonary disease (COPD) in the past year?\n",
      "216 Do you work in construction?\n",
      "217 Have you had 2 or more asthma attacks in the past year?\n",
      "218 Have you recently had a viral infection?\n",
      "219 Have you noticed weakness in your facial muscles and/or eyes?\n",
      "220 Do you have numbness, loss of sensation or tingling in the feet?\n",
      "221 Do you have high cholesterol or do you take medications to treat high cholesterol?\n",
      "222 Do you have very abundant or very long menstruation periods?\n",
      "223 Do you have an active cancer?\n",
      "224 Have you been unable to move or get up for more than 3 consecutive days within the last 4 weeks?\n",
      "225 Have you had surgery within the last month?\n",
      "226 Are your symptoms more prominent at night?\n",
      "227 Have you ever been diagnosed with obstructive sleep apnea (OSA)?\n",
      "228 Have you recently thrown up blood or something resembling coffee beans?\n",
      "229 Have you been in contact with someone who has had pertussis (whoooping cough)?\n",
      "230 Did you vomit after coughing?\n",
      "231 Do you feel your heart is beating very irregularly or in a disorganized pattern?\n",
      "232 Do you exercise regularly, 4 times per week or more?\n",
      "233 Have you started or taken any antipsychotic medication within the last 7 days?\n",
      "234 Have you ever felt like you were suffocating for a very short time associated with inability to breathe or speak?\n",
      "235 Have you been treated in hospital recently for nausea, agitation, intoxication or aggressive behavior and received medication via an intravenous or intramuscular route?\n",
      "236 Are you unable to control the direction of your eyes?\n",
      "237 Do you feel that muscle spasms or soreness in your neck are keeping you from turning your head to one side?\n",
      "238 Do you have annoying muscle spasms in your face, neck or any other part of your body?\n",
      "239 Do you suddenly have difficulty or an inability to open your mouth or have jaw pain when opening it?\n",
      "240 Do you feel your abdomen is bloated or distended (swollen due to pressure from inside)?\n",
      "241 Do you currently undergo dialysis?\n",
      "242 Do you have bouts of choking or shortness of breath that wake you up at night?\n",
      "243 Do you have family members who have had lung cancer?\n",
      "244 Do you have trouble keeping your tongue in your mouth?\n",
      "245 Are you currently being treated or have you recently been treated with an oral antibiotic for an ear infection?\n",
      "246 Have you had weakness or paralysis on one side of the face, which may still be present or completely resolved?\n",
      "247 Do you regularly drink coffee or tea?\n",
      "248 Have you recently taken decongestants or other substances that may have stimulant effects?\n",
      "249 Do you have metastatic cancer?\n",
      "250 Are you more irritable or has your mood been very unstable recently?\n",
      "251 Do you take a calcium channel blockers (medication)?\n",
      "252 Have you had any vaginal discharge?\n",
      "253 Do you have cystic fibrosis?\n",
      "254 Do you currently take hormones?\n",
      "255 Do you wheeze while inhaling or is your breathing noisy after coughing spells?\n",
      "256 Do you feel out of breath with minimal physical effort?\n",
      "257 Do any members of your immediate family have a psychiatric illness?\n",
      "258 Have you ever had a stroke?\n",
      "259 Do you consume energy drinks regularly?\n",
      "260 Does the person have a whooping cough?\n",
      "261 Have you or any member of your family ever had croup?\n",
      "262 Do you work in the mining sector?\n",
      "263 Did you have your first menstrual period before the age of 12?\n",
      "264 Have you breastfed one of your children for more than 9 months?\n",
      "265 Have you felt confused or disorientated lately?\n",
      "266 In the last month, have you been in contact with anyone infected with the Ebola virus?\n",
      "267 Have you noticed any unusual bleeding or bruising related to your consultation today?\n",
      "268 Do you live in the suburbs?\n",
      "269 Do you ever temporarily stop breathing while you’re asleep?\n",
      "270 Do you have a decrease in appetite?\n",
      "271 Does your mother suffer from asthma?\n",
      "272 Do you live in a rural area?\n",
      "273 Are you of Asian descent?\n"
     ]
    }
   ],
   "source": [
    "for index,col in enumerate(df.columns,start = 0):\n",
    "    print(index,col)"
   ]
  },
  {
   "cell_type": "code",
   "execution_count": 27,
   "id": "950fbb1d",
   "metadata": {
    "execution": {
     "iopub.execute_input": "2025-05-16T21:06:44.401363Z",
     "iopub.status.busy": "2025-05-16T21:06:44.400506Z",
     "iopub.status.idle": "2025-05-16T21:06:45.378528Z",
     "shell.execute_reply": "2025-05-16T21:06:45.377505Z"
    },
    "papermill": {
     "duration": 0.990234,
     "end_time": "2025-05-16T21:06:45.380398",
     "exception": false,
     "start_time": "2025-05-16T21:06:44.390164",
     "status": "completed"
    },
    "tags": []
   },
   "outputs": [],
   "source": [
    "X = df.drop(columns = df.columns[2:52],axis =1)\n",
    "y = df[df.columns[2:52]]"
   ]
  },
  {
   "cell_type": "code",
   "execution_count": 28,
   "id": "f0959ff0",
   "metadata": {
    "execution": {
     "iopub.execute_input": "2025-05-16T21:06:45.400436Z",
     "iopub.status.busy": "2025-05-16T21:06:45.400072Z",
     "iopub.status.idle": "2025-05-16T21:06:45.406624Z",
     "shell.execute_reply": "2025-05-16T21:06:45.405575Z"
    },
    "papermill": {
     "duration": 0.018424,
     "end_time": "2025-05-16T21:06:45.408359",
     "exception": false,
     "start_time": "2025-05-16T21:06:45.389935",
     "status": "completed"
    },
    "tags": []
   },
   "outputs": [
    {
     "data": {
      "text/plain": [
       "Index(['AGE', 'SEX', 'Have you had significantly increased sweating?',\n",
       "       'Do you have pain somewhere, related to your reason for consulting?',\n",
       "       'Characterize your pain:', 'Do you feel pain somewhere?',\n",
       "       'How intense is the pain?',\n",
       "       'Does the pain radiate to another location?',\n",
       "       'How precisely is the pain located?', 'How fast did the pain appear?',\n",
       "       ...\n",
       "       'Have you breastfed one of your children for more than 9 months?',\n",
       "       'Have you felt confused or disorientated lately?',\n",
       "       'In the last month, have you been in contact with anyone infected with the Ebola virus?',\n",
       "       'Have you noticed any unusual bleeding or bruising related to your consultation today?',\n",
       "       'Do you live in the suburbs?',\n",
       "       'Do you ever temporarily stop breathing while you’re asleep?',\n",
       "       'Do you have a decrease in appetite?',\n",
       "       'Does your mother suffer from asthma?', 'Do you live in a rural area?',\n",
       "       'Are you of Asian descent?'],\n",
       "      dtype='object', length=224)"
      ]
     },
     "execution_count": 28,
     "metadata": {},
     "output_type": "execute_result"
    }
   ],
   "source": [
    "X.columns"
   ]
  },
  {
   "cell_type": "code",
   "execution_count": 29,
   "id": "121eefe3",
   "metadata": {
    "execution": {
     "iopub.execute_input": "2025-05-16T21:06:45.428909Z",
     "iopub.status.busy": "2025-05-16T21:06:45.428511Z",
     "iopub.status.idle": "2025-05-16T21:06:45.435950Z",
     "shell.execute_reply": "2025-05-16T21:06:45.434767Z"
    },
    "papermill": {
     "duration": 0.019883,
     "end_time": "2025-05-16T21:06:45.437916",
     "exception": false,
     "start_time": "2025-05-16T21:06:45.418033",
     "status": "completed"
    },
    "tags": []
   },
   "outputs": [
    {
     "data": {
      "text/plain": [
       "Index(['Bronchitis', 'Pneumonia', 'URTI', 'Bronchiectasis', 'Tuberculosis',\n",
       "       'Influenza', 'HIV (initial infection)', 'Chagas',\n",
       "       'Scombroid food poisoning', 'Sarcoidosis', 'Unstable angina',\n",
       "       'Possible NSTEMI / STEMI', 'Boerhaave', 'Spontaneous rib fracture',\n",
       "       'Pericarditis', 'Stable angina', 'GERD', 'Panic attack',\n",
       "       'Cluster headache', 'Chronic rhinosinusitis', 'Acute rhinosinusitis',\n",
       "       'Anemia', 'Acute laryngitis', 'Viral pharyngitis', 'Anaphylaxis',\n",
       "       'PSVT', 'Atrial fibrillation', 'Acute pulmonary edema',\n",
       "       'Guillain-Barré syndrome', 'Myocarditis', 'Acute dystonic reactions',\n",
       "       'Myasthenia gravis', 'SLE', 'Allergic sinusitis', 'Croup',\n",
       "       'Larygospasm', 'Pancreatic neoplasm', 'Inguinal hernia',\n",
       "       'Pulmonary embolism', 'Spontaneous pneumothorax', 'Pulmonary neoplasm',\n",
       "       'Epiglottitis', 'Whooping cough',\n",
       "       'Bronchospasm / acute asthma exacerbation', 'Localized edema',\n",
       "       'Acute COPD exacerbation / infection', 'Ebola', 'Acute otitis media',\n",
       "       'Bronchiolitis', 'Do you live with 4 or more people?'],\n",
       "      dtype='object')"
      ]
     },
     "execution_count": 29,
     "metadata": {},
     "output_type": "execute_result"
    }
   ],
   "source": [
    "y.columns"
   ]
  },
  {
   "cell_type": "code",
   "execution_count": 30,
   "id": "1a51f77a",
   "metadata": {
    "execution": {
     "iopub.execute_input": "2025-05-16T21:06:45.582408Z",
     "iopub.status.busy": "2025-05-16T21:06:45.582076Z",
     "iopub.status.idle": "2025-05-16T21:06:52.921673Z",
     "shell.execute_reply": "2025-05-16T21:06:52.920717Z"
    },
    "papermill": {
     "duration": 7.352273,
     "end_time": "2025-05-16T21:06:52.923704",
     "exception": false,
     "start_time": "2025-05-16T21:06:45.571431",
     "status": "completed"
    },
    "tags": []
   },
   "outputs": [],
   "source": [
    "X_train,X_test,y_train,y_test = train_test_split(X,y,test_size = 0.2,random_state = 42)"
   ]
  },
  {
   "cell_type": "code",
   "execution_count": 31,
   "id": "8debc3d3",
   "metadata": {
    "execution": {
     "iopub.execute_input": "2025-05-16T21:06:52.944613Z",
     "iopub.status.busy": "2025-05-16T21:06:52.944229Z",
     "iopub.status.idle": "2025-05-16T21:06:52.950441Z",
     "shell.execute_reply": "2025-05-16T21:06:52.949423Z"
    },
    "papermill": {
     "duration": 0.018647,
     "end_time": "2025-05-16T21:06:52.952236",
     "exception": false,
     "start_time": "2025-05-16T21:06:52.933589",
     "status": "completed"
    },
    "tags": []
   },
   "outputs": [
    {
     "data": {
      "text/plain": [
       "((864704, 224), (216177, 224), (864704, 50), (216177, 50))"
      ]
     },
     "execution_count": 31,
     "metadata": {},
     "output_type": "execute_result"
    }
   ],
   "source": [
    "X_train.shape,X_test.shape,y_train.shape,y_test.shape"
   ]
  },
  {
   "cell_type": "code",
   "execution_count": 32,
   "id": "fc236f4a",
   "metadata": {
    "execution": {
     "iopub.execute_input": "2025-05-16T21:06:52.973920Z",
     "iopub.status.busy": "2025-05-16T21:06:52.972762Z",
     "iopub.status.idle": "2025-05-16T21:07:01.874144Z",
     "shell.execute_reply": "2025-05-16T21:07:01.873212Z"
    },
    "papermill": {
     "duration": 8.913951,
     "end_time": "2025-05-16T21:07:01.876037",
     "exception": false,
     "start_time": "2025-05-16T21:06:52.962086",
     "status": "completed"
    },
    "tags": []
   },
   "outputs": [
    {
     "data": {
      "text/plain": [
       "array([[-0.60007126, -0.41255127, -0.39702737, ..., -0.1642927 ,\n",
       "        -0.02818982,  0.        ],\n",
       "       [-0.06778655,  0.86949168, -0.39702737, ..., -0.1642927 ,\n",
       "        -0.02818982,  0.        ],\n",
       "       [-0.60007126, -0.41255127, -0.39702737, ..., -0.1642927 ,\n",
       "        -0.02818982,  0.        ],\n",
       "       ...,\n",
       "       [-0.60007126, -0.41255127, -0.39702737, ..., -0.1642927 ,\n",
       "        -0.02818982,  0.        ],\n",
       "       [ 2.78662274, -0.41255127, -0.39702737, ..., -0.1642927 ,\n",
       "        -0.02818982,  0.        ],\n",
       "       [ 1.1587725 ,  2.12916386,  1.8541821 , ..., -0.1642927 ,\n",
       "        -0.02818982,  0.        ]])"
      ]
     },
     "execution_count": 32,
     "metadata": {},
     "output_type": "execute_result"
    }
   ],
   "source": [
    "\n",
    "scaler_x = StandardScaler()\n",
    "scaler_x.fit_transform(X_train)\n",
    "scaler_x.transform(X_test)\n",
    "\n",
    "scaler_y = StandardScaler()\n",
    "scaler_y.fit_transform(y_train)\n",
    "scaler_y.transform(y_test)\n"
   ]
  },
  {
   "cell_type": "code",
   "execution_count": 33,
   "id": "623d1b01",
   "metadata": {
    "execution": {
     "iopub.execute_input": "2025-05-16T21:07:01.898647Z",
     "iopub.status.busy": "2025-05-16T21:07:01.898312Z",
     "iopub.status.idle": "2025-05-16T21:07:01.904673Z",
     "shell.execute_reply": "2025-05-16T21:07:01.903653Z"
    },
    "papermill": {
     "duration": 0.020025,
     "end_time": "2025-05-16T21:07:01.906693",
     "exception": false,
     "start_time": "2025-05-16T21:07:01.886668",
     "status": "completed"
    },
    "tags": []
   },
   "outputs": [
    {
     "data": {
      "text/plain": [
       "((864704, 224), (216177, 224), (864704, 50), (216177, 50))"
      ]
     },
     "execution_count": 33,
     "metadata": {},
     "output_type": "execute_result"
    }
   ],
   "source": [
    "X_train.shape,X_test.shape,y_train.shape,y_test.shape"
   ]
  },
  {
   "cell_type": "code",
   "execution_count": null,
   "id": "e496df3a",
   "metadata": {
    "papermill": {
     "duration": 0.010094,
     "end_time": "2025-05-16T21:07:01.926956",
     "exception": false,
     "start_time": "2025-05-16T21:07:01.916862",
     "status": "completed"
    },
    "tags": []
   },
   "outputs": [],
   "source": []
  }
 ],
 "metadata": {
  "kaggle": {
   "accelerator": "none",
   "dataSources": [
    {
     "datasetId": 7420712,
     "sourceId": 11814615,
     "sourceType": "datasetVersion"
    },
    {
     "datasetId": 7420819,
     "sourceId": 11814754,
     "sourceType": "datasetVersion"
    },
    {
     "datasetId": 7420848,
     "sourceId": 11814794,
     "sourceType": "datasetVersion"
    },
    {
     "datasetId": 7421273,
     "sourceId": 11815444,
     "sourceType": "datasetVersion"
    }
   ],
   "dockerImageVersionId": 31040,
   "isGpuEnabled": false,
   "isInternetEnabled": true,
   "language": "python",
   "sourceType": "notebook"
  },
  "kernelspec": {
   "display_name": "Python 3",
   "language": "python",
   "name": "python3"
  },
  "language_info": {
   "codemirror_mode": {
    "name": "ipython",
    "version": 3
   },
   "file_extension": ".py",
   "mimetype": "text/x-python",
   "name": "python",
   "nbconvert_exporter": "python",
   "pygments_lexer": "ipython3",
   "version": "3.11.11"
  },
  "papermill": {
   "default_parameters": {},
   "duration": 466.220128,
   "end_time": "2025-05-16T21:07:05.561674",
   "environment_variables": {},
   "exception": null,
   "input_path": "__notebook__.ipynb",
   "output_path": "__notebook__.ipynb",
   "parameters": {},
   "start_time": "2025-05-16T20:59:19.341546",
   "version": "2.6.0"
  }
 },
 "nbformat": 4,
 "nbformat_minor": 5
}
